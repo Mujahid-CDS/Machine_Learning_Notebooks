{
 "cells": [
  {
   "cell_type": "markdown",
   "id": "5506b418",
   "metadata": {},
   "source": [
    "# Conditional Statements"
   ]
  },
  {
   "cell_type": "code",
   "execution_count": 1,
   "id": "4d0bc6e0",
   "metadata": {},
   "outputs": [
    {
     "name": "stdout",
     "output_type": "stream",
     "text": [
      "20% tax applies\n",
      "Tax amount is 380000.0\n"
     ]
    }
   ],
   "source": [
    "salary=1900000\n",
    "\n",
    "if salary<200000:\n",
    "    print('No tax need to be paid')\n",
    "    print('Because salary is less than 2L')\n",
    "elif salary>200000 and salary<500000:\n",
    "    tax=salary*10/100\n",
    "    print('10% tax applies')\n",
    "    print('Tax amount is', tax)\n",
    "else:\n",
    "    tax=salary*20/100\n",
    "    print('20% tax applies')\n",
    "    print('Tax amount is', tax)"
   ]
  },
  {
   "cell_type": "code",
   "execution_count": 5,
   "id": "2dd32333",
   "metadata": {},
   "outputs": [
    {
     "name": "stdout",
     "output_type": "stream",
     "text": [
      "E\n"
     ]
    }
   ],
   "source": [
    "perc=23\n",
    "\n",
    "if perc>=80 and perc<=100:\n",
    "    print('A')\n",
    "elif perc>=65 and perc<80:\n",
    "    print('B')\n",
    "elif perc>=50 and perc<65:\n",
    "    print('C')\n",
    "else:\n",
    "    print('E')"
   ]
  },
  {
   "cell_type": "code",
   "execution_count": 8,
   "id": "1615df4e",
   "metadata": {},
   "outputs": [
    {
     "name": "stdout",
     "output_type": "stream",
     "text": [
      "T-shirt\n"
     ]
    }
   ],
   "source": [
    "Bill_Amount=6000\n",
    "\n",
    "if Bill_Amount>10000:\n",
    "    print('Jacket Free')\n",
    "elif Bill_Amount>=5000 and Bill_Amount<10000:\n",
    "    print('T-shirt Free')\n",
    "elif Bill_Amount>=2000 and Bill_Amount<5000:\n",
    "    print('Car Free')\n",
    "else:\n",
    "    print('Nothing')"
   ]
  },
  {
   "cell_type": "code",
   "execution_count": 39,
   "id": "471f63d9",
   "metadata": {},
   "outputs": [
    {
     "name": "stdout",
     "output_type": "stream",
     "text": [
      "BMI is 8.650519031141869\n",
      "Under Weight\n"
     ]
    }
   ],
   "source": [
    "height=1.7\n",
    "weight=25\n",
    "\n",
    "BMI= weight/(height**2)\n",
    "print('BMI is',BMI)\n",
    "\n",
    "if BMI<=18.5:\n",
    "    print('Under Weight')\n",
    "elif BMI>18.5 and BMI<=25:\n",
    "    print('Normal')\n",
    "elif BMI>25 and BMI<=30:\n",
    "    print('Over Weight')\n",
    "else:\n",
    "    print('Obese')"
   ]
  },
  {
   "cell_type": "markdown",
   "id": "c1b567f4",
   "metadata": {},
   "source": [
    "# Loops"
   ]
  },
  {
   "cell_type": "code",
   "execution_count": 65,
   "id": "0a830bf9",
   "metadata": {},
   "outputs": [
    {
     "name": "stdout",
     "output_type": "stream",
     "text": [
      "1\n",
      "2\n",
      "3\n",
      "4\n",
      "5\n",
      "6\n",
      "7\n",
      "8\n",
      "9\n",
      "10\n",
      "11\n",
      "12\n",
      "13\n",
      "14\n",
      "15\n",
      "16\n",
      "17\n",
      "18\n",
      "19\n",
      "20\n"
     ]
    }
   ],
   "source": [
    "for i in range (20):\n",
    "    print(i+1);"
   ]
  },
  {
   "cell_type": "code",
   "execution_count": 68,
   "id": "f0a830d9",
   "metadata": {},
   "outputs": [
    {
     "name": "stdout",
     "output_type": "stream",
     "text": [
      "Bye 1\n",
      "Bye 4\n",
      "Bye 7\n"
     ]
    }
   ],
   "source": [
    "for i in range(1,10,3):\n",
    "    print('Bye', i)"
   ]
  },
  {
   "cell_type": "code",
   "execution_count": 61,
   "id": "45b25c6c",
   "metadata": {},
   "outputs": [
    {
     "name": "stdout",
     "output_type": "stream",
     "text": [
      "Bye 0\n",
      "Bye 1\n",
      "Bye 2\n",
      "Bye 3\n",
      "Bye 4\n",
      "Bye 5\n"
     ]
    }
   ],
   "source": [
    "for i in (0,1,2,3,4,5):\n",
    "    print('Bye', i)"
   ]
  },
  {
   "cell_type": "code",
   "execution_count": 63,
   "id": "d9544bc8",
   "metadata": {},
   "outputs": [
    {
     "name": "stdout",
     "output_type": "stream",
     "text": [
      "Bye 1\n",
      "Bye 2\n",
      "Bye 3\n",
      "Bye 4\n",
      "Bye 5\n",
      "Bye 6\n"
     ]
    }
   ],
   "source": [
    "for i in [0,1,2,3,4,5]:\n",
    "    print('Bye', i+1)"
   ]
  },
  {
   "cell_type": "code",
   "execution_count": null,
   "id": "8a28ceaa",
   "metadata": {},
   "outputs": [],
   "source": []
  }
 ],
 "metadata": {
  "kernelspec": {
   "display_name": "Python 3",
   "language": "python",
   "name": "python3"
  },
  "language_info": {
   "codemirror_mode": {
    "name": "ipython",
    "version": 3
   },
   "file_extension": ".py",
   "mimetype": "text/x-python",
   "name": "python",
   "nbconvert_exporter": "python",
   "pygments_lexer": "ipython3",
   "version": "3.8.8"
  }
 },
 "nbformat": 4,
 "nbformat_minor": 5
}
