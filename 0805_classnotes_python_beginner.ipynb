{
 "cells": [
  {
   "cell_type": "markdown",
   "id": "e01ef9f6",
   "metadata": {},
   "source": [
    "# Recap - print, markdown"
   ]
  },
  {
   "cell_type": "code",
   "execution_count": 41,
   "id": "47ff0e47",
   "metadata": {},
   "outputs": [],
   "source": [
    "name='Mujahid'"
   ]
  },
  {
   "cell_type": "code",
   "execution_count": 2,
   "id": "394241cb",
   "metadata": {},
   "outputs": [
    {
     "name": "stdout",
     "output_type": "stream",
     "text": [
      "Mujahid\n"
     ]
    }
   ],
   "source": [
    "print(name)"
   ]
  },
  {
   "cell_type": "code",
   "execution_count": 3,
   "id": "c44f834d",
   "metadata": {},
   "outputs": [],
   "source": [
    "favcolour='red'"
   ]
  },
  {
   "cell_type": "code",
   "execution_count": 4,
   "id": "b7518bc2",
   "metadata": {},
   "outputs": [
    {
     "name": "stdout",
     "output_type": "stream",
     "text": [
      "red\n"
     ]
    }
   ],
   "source": [
    "print(favcolour)"
   ]
  },
  {
   "cell_type": "markdown",
   "id": "22076670",
   "metadata": {},
   "source": [
    "# Conditions to name a variable\n",
    "- It cannot start with number\n",
    "- It cannot contain any spaces\n",
    "- It cannot contain symbols\n",
    "- It can contain underscore '_'"
   ]
  },
  {
   "cell_type": "markdown",
   "id": "d52fc5cd",
   "metadata": {},
   "source": [
    "# DATA TYPES\n",
    "- Integer\n",
    "- String\n",
    "- Float\n",
    "- Boolean"
   ]
  },
  {
   "cell_type": "code",
   "execution_count": 5,
   "id": "00580e7f",
   "metadata": {},
   "outputs": [],
   "source": [
    "sentence='Today is a good day'"
   ]
  },
  {
   "cell_type": "code",
   "execution_count": 6,
   "id": "ef3ee5a8",
   "metadata": {},
   "outputs": [
    {
     "name": "stdout",
     "output_type": "stream",
     "text": [
      "Today is a good day\n"
     ]
    }
   ],
   "source": [
    "print(sentence)"
   ]
  },
  {
   "cell_type": "code",
   "execution_count": 10,
   "id": "190c32c4",
   "metadata": {},
   "outputs": [
    {
     "data": {
      "text/plain": [
       "str"
      ]
     },
     "execution_count": 10,
     "metadata": {},
     "output_type": "execute_result"
    }
   ],
   "source": [
    "type (sentence)"
   ]
  },
  {
   "cell_type": "code",
   "execution_count": 11,
   "id": "04211eeb",
   "metadata": {},
   "outputs": [],
   "source": [
    "FavFruit='apple'"
   ]
  },
  {
   "cell_type": "code",
   "execution_count": 13,
   "id": "beaeedbb",
   "metadata": {},
   "outputs": [
    {
     "data": {
      "text/plain": [
       "str"
      ]
     },
     "execution_count": 13,
     "metadata": {},
     "output_type": "execute_result"
    }
   ],
   "source": [
    "type (FavFruit)"
   ]
  },
  {
   "cell_type": "code",
   "execution_count": 14,
   "id": "d00ad868",
   "metadata": {},
   "outputs": [],
   "source": [
    "NumOfCars=2"
   ]
  },
  {
   "cell_type": "code",
   "execution_count": 15,
   "id": "3808d8d5",
   "metadata": {},
   "outputs": [
    {
     "data": {
      "text/plain": [
       "int"
      ]
     },
     "execution_count": 15,
     "metadata": {},
     "output_type": "execute_result"
    }
   ],
   "source": [
    "type (NumOfCars)"
   ]
  },
  {
   "cell_type": "code",
   "execution_count": 16,
   "id": "a3c6ccb5",
   "metadata": {},
   "outputs": [],
   "source": [
    "Pi=3.14"
   ]
  },
  {
   "cell_type": "code",
   "execution_count": 17,
   "id": "01891db1",
   "metadata": {},
   "outputs": [
    {
     "data": {
      "text/plain": [
       "float"
      ]
     },
     "execution_count": 17,
     "metadata": {},
     "output_type": "execute_result"
    }
   ],
   "source": [
    "type (Pi)"
   ]
  },
  {
   "cell_type": "code",
   "execution_count": 18,
   "id": "aa71e8c7",
   "metadata": {},
   "outputs": [
    {
     "name": "stdout",
     "output_type": "stream",
     "text": [
      "0.2\n"
     ]
    }
   ],
   "source": [
    "TwobyTen=0.2\n",
    "print(TwobyTen)"
   ]
  },
  {
   "cell_type": "code",
   "execution_count": 19,
   "id": "6bf2480e",
   "metadata": {},
   "outputs": [
    {
     "data": {
      "text/plain": [
       "float"
      ]
     },
     "execution_count": 19,
     "metadata": {},
     "output_type": "execute_result"
    }
   ],
   "source": [
    "type (TwobyTen)"
   ]
  },
  {
   "cell_type": "code",
   "execution_count": 20,
   "id": "291e3648",
   "metadata": {},
   "outputs": [],
   "source": [
    "thirtyseven=37\n",
    "thirtysevendotO=37.0"
   ]
  },
  {
   "cell_type": "code",
   "execution_count": 21,
   "id": "54e59085",
   "metadata": {},
   "outputs": [
    {
     "data": {
      "text/plain": [
       "float"
      ]
     },
     "execution_count": 21,
     "metadata": {},
     "output_type": "execute_result"
    }
   ],
   "source": [
    "type (thirtysevendotO)"
   ]
  },
  {
   "cell_type": "code",
   "execution_count": 22,
   "id": "f027ddc4",
   "metadata": {},
   "outputs": [
    {
     "data": {
      "text/plain": [
       "int"
      ]
     },
     "execution_count": 22,
     "metadata": {},
     "output_type": "execute_result"
    }
   ],
   "source": [
    "type (thirtyseven)"
   ]
  },
  {
   "cell_type": "code",
   "execution_count": 23,
   "id": "6678504d",
   "metadata": {},
   "outputs": [
    {
     "name": "stdout",
     "output_type": "stream",
     "text": [
      "My name is Mujahid\n"
     ]
    }
   ],
   "source": [
    "print('My name is Mujahid')"
   ]
  },
  {
   "cell_type": "code",
   "execution_count": 25,
   "id": "3c6f6901",
   "metadata": {},
   "outputs": [
    {
     "name": "stdout",
     "output_type": "stream",
     "text": [
      "37\n"
     ]
    }
   ],
   "source": [
    "print(37)"
   ]
  },
  {
   "cell_type": "code",
   "execution_count": 26,
   "id": "2703a206",
   "metadata": {},
   "outputs": [
    {
     "name": "stdout",
     "output_type": "stream",
     "text": [
      "37.0\n"
     ]
    }
   ],
   "source": [
    "print (37.0)"
   ]
  },
  {
   "cell_type": "code",
   "execution_count": 42,
   "id": "cb6a07e9",
   "metadata": {},
   "outputs": [
    {
     "name": "stdout",
     "output_type": "stream",
     "text": [
      "<class 'str'>\n"
     ]
    }
   ],
   "source": [
    "print (type('apple'))"
   ]
  },
  {
   "cell_type": "code",
   "execution_count": 43,
   "id": "5bed7ddd",
   "metadata": {},
   "outputs": [
    {
     "name": "stdout",
     "output_type": "stream",
     "text": [
      "<class 'int'>\n"
     ]
    }
   ],
   "source": [
    "print (type(45))"
   ]
  },
  {
   "cell_type": "code",
   "execution_count": 44,
   "id": "bd7673c6",
   "metadata": {},
   "outputs": [
    {
     "name": "stdout",
     "output_type": "stream",
     "text": [
      "<class 'float'>\n"
     ]
    }
   ],
   "source": [
    "print (type(45.0))"
   ]
  },
  {
   "cell_type": "code",
   "execution_count": 45,
   "id": "8d2a0905",
   "metadata": {},
   "outputs": [
    {
     "name": "stdout",
     "output_type": "stream",
     "text": [
      "<class 'str'>\n"
     ]
    }
   ],
   "source": [
    "print (type('5'))"
   ]
  },
  {
   "cell_type": "code",
   "execution_count": 52,
   "id": "8931b604",
   "metadata": {},
   "outputs": [
    {
     "name": "stdout",
     "output_type": "stream",
     "text": [
      "apple\n",
      "2\n",
      "3.4\n",
      "string is apple ,integer is 2 ,float_f 3.4\n"
     ]
    }
   ],
   "source": [
    "string_s='apple'\n",
    "integer_i=2\n",
    "float_f=3.4\n",
    "print(string_s)\n",
    "print(integer_i)\n",
    "print(float_f)\n",
    "\n",
    "print (\"string is\", string_s, \",integer is\", integer_i, \",float_f\", float_f)"
   ]
  },
  {
   "cell_type": "code",
   "execution_count": 50,
   "id": "6fac3961",
   "metadata": {},
   "outputs": [
    {
     "name": "stdout",
     "output_type": "stream",
     "text": [
      "apple <class 'str'>\n",
      "2 <class 'int'>\n",
      "3.4 <class 'float'>\n"
     ]
    }
   ],
   "source": [
    "string_s='apple'\n",
    "integer_i=2\n",
    "float_f=3.4\n",
    "print(string_s, type(string_s))\n",
    "print(integer_i, type(integer_i))\n",
    "print(float_f, type(float_f))"
   ]
  },
  {
   "cell_type": "markdown",
   "id": "23185ae2",
   "metadata": {},
   "source": [
    "# boolean\n",
    "- They can only store a true or a false"
   ]
  },
  {
   "cell_type": "code",
   "execution_count": 53,
   "id": "2d383a61",
   "metadata": {},
   "outputs": [],
   "source": [
    "isItGonnaRain =True"
   ]
  },
  {
   "cell_type": "code",
   "execution_count": 54,
   "id": "785b58d2",
   "metadata": {},
   "outputs": [
    {
     "name": "stdout",
     "output_type": "stream",
     "text": [
      "True\n"
     ]
    }
   ],
   "source": [
    "print(isItGonnaRain)"
   ]
  },
  {
   "cell_type": "code",
   "execution_count": 55,
   "id": "be8942ae",
   "metadata": {},
   "outputs": [
    {
     "name": "stdout",
     "output_type": "stream",
     "text": [
      "<class 'bool'>\n"
     ]
    }
   ],
   "source": [
    "print(type(isItGonnaRain))"
   ]
  },
  {
   "cell_type": "code",
   "execution_count": 56,
   "id": "fae8eb09",
   "metadata": {},
   "outputs": [
    {
     "name": "stdout",
     "output_type": "stream",
     "text": [
      "True\n"
     ]
    }
   ],
   "source": [
    "print(isItGonnaRain)"
   ]
  },
  {
   "cell_type": "code",
   "execution_count": 57,
   "id": "e23b52de",
   "metadata": {},
   "outputs": [],
   "source": [
    "isItGood= 0"
   ]
  },
  {
   "cell_type": "code",
   "execution_count": 58,
   "id": "b532034e",
   "metadata": {},
   "outputs": [
    {
     "name": "stdout",
     "output_type": "stream",
     "text": [
      "<class 'int'>\n"
     ]
    }
   ],
   "source": [
    "print(type(isItGood))"
   ]
  },
  {
   "cell_type": "markdown",
   "id": "e62f134d",
   "metadata": {},
   "source": [
    "# Mathematical Operators"
   ]
  },
  {
   "cell_type": "code",
   "execution_count": 59,
   "id": "e3eeb553",
   "metadata": {},
   "outputs": [
    {
     "name": "stdout",
     "output_type": "stream",
     "text": [
      "1212.5\n"
     ]
    }
   ],
   "source": [
    "a=600\n",
    "b=567\n",
    "c=45.5\n",
    "\n",
    "d=a+b+c\n",
    "print(d)"
   ]
  },
  {
   "cell_type": "code",
   "execution_count": 60,
   "id": "48a78318",
   "metadata": {},
   "outputs": [
    {
     "name": "stdout",
     "output_type": "stream",
     "text": [
      "Total No of marks obtained 395\n"
     ]
    }
   ],
   "source": [
    "English=50\n",
    "Mathematics=90\n",
    "Chemistry =70\n",
    "Biology=90\n",
    "Physics=95\n",
    "\n",
    "Total= English+Mathematics+Chemistry+Biology+Physics\n",
    "print('Total No of marks obtained', Total)"
   ]
  },
  {
   "cell_type": "code",
   "execution_count": 62,
   "id": "6a978608",
   "metadata": {},
   "outputs": [
    {
     "name": "stdout",
     "output_type": "stream",
     "text": [
      "add 10.8\n",
      "sub -4.8\n",
      "multiply 23.4\n"
     ]
    }
   ],
   "source": [
    "a=3\n",
    "b=7.8\n",
    "\n",
    "print('add', a+b)\n",
    "print('sub', a-b)\n",
    "print('multiply', a*b)"
   ]
  },
  {
   "cell_type": "markdown",
   "id": "a60a6c38",
   "metadata": {},
   "source": [
    "# Division"
   ]
  },
  {
   "cell_type": "code",
   "execution_count": 63,
   "id": "0f2245e6",
   "metadata": {},
   "outputs": [
    {
     "data": {
      "text/plain": [
       "1.8"
      ]
     },
     "execution_count": 63,
     "metadata": {},
     "output_type": "execute_result"
    }
   ],
   "source": [
    "9/5"
   ]
  },
  {
   "cell_type": "code",
   "execution_count": 64,
   "id": "7ab39477",
   "metadata": {},
   "outputs": [
    {
     "data": {
      "text/plain": [
       "4.0"
      ]
     },
     "execution_count": 64,
     "metadata": {},
     "output_type": "execute_result"
    }
   ],
   "source": [
    "8/2"
   ]
  },
  {
   "cell_type": "code",
   "execution_count": 65,
   "id": "c9a7aba3",
   "metadata": {},
   "outputs": [
    {
     "data": {
      "text/plain": [
       "9.0"
      ]
     },
     "execution_count": 65,
     "metadata": {},
     "output_type": "execute_result"
    }
   ],
   "source": [
    "900/100"
   ]
  },
  {
   "cell_type": "code",
   "execution_count": 66,
   "id": "dc08193f",
   "metadata": {},
   "outputs": [
    {
     "name": "stdout",
     "output_type": "stream",
     "text": [
      "div 1.8\n"
     ]
    }
   ],
   "source": [
    "a=900\n",
    "b=500\n",
    "\n",
    "print('div',a/b)"
   ]
  },
  {
   "cell_type": "code",
   "execution_count": 69,
   "id": "66de4769",
   "metadata": {},
   "outputs": [
    {
     "name": "stdout",
     "output_type": "stream",
     "text": [
      "11.75\n"
     ]
    }
   ],
   "source": [
    "a=5\n",
    "b=10\n",
    "c=15\n",
    "d=17\n",
    "\n",
    "total=a+b+c+d\n",
    "avg=total/4\n",
    "print(avg)"
   ]
  },
  {
   "cell_type": "code",
   "execution_count": 85,
   "id": "d4262bf3",
   "metadata": {},
   "outputs": [
    {
     "name": "stdout",
     "output_type": "stream",
     "text": [
      "percentage 9.4\n"
     ]
    }
   ],
   "source": [
    "Max_M=500\n",
    "English=70\n",
    "Mathematics=70\n",
    "Chemistry =70\n",
    "Biology=45\n",
    "Physics=90\n",
    "\n",
    "Total= English+Mathematics+Chemistry+Biology+Physics\n",
    "percent=(total / Max_M) * 100\n",
    "print('percentage', percent)"
   ]
  },
  {
   "cell_type": "code",
   "execution_count": 105,
   "id": "0fbd8206",
   "metadata": {},
   "outputs": [
    {
     "name": "stdout",
     "output_type": "stream",
     "text": [
      "percentage 65.0\n"
     ]
    }
   ],
   "source": [
    "English=70\n",
    "Mathematics=70\n",
    "Chemistry =50\n",
    "Biology=45\n",
    "Physics=90\n",
    "\n",
    "Total= English + Mathematics + Chemistry + Biology + Physics\n",
    "percent=(Total / 500) * 100\n",
    "print('percentage', percent)"
   ]
  },
  {
   "cell_type": "code",
   "execution_count": 101,
   "id": "1c5d3366",
   "metadata": {},
   "outputs": [
    {
     "data": {
      "text/plain": [
       "0.1"
      ]
     },
     "execution_count": 101,
     "metadata": {},
     "output_type": "execute_result"
    }
   ],
   "source": [
    "10/50*5/(5+5)"
   ]
  },
  {
   "cell_type": "code",
   "execution_count": 102,
   "id": "69772280",
   "metadata": {},
   "outputs": [
    {
     "data": {
      "text/plain": [
       "0.1"
      ]
     },
     "execution_count": 102,
     "metadata": {},
     "output_type": "execute_result"
    }
   ],
   "source": [
    "10/50*5/10"
   ]
  },
  {
   "cell_type": "code",
   "execution_count": 103,
   "id": "2e22b21b",
   "metadata": {},
   "outputs": [
    {
     "data": {
      "text/plain": [
       "0.1"
      ]
     },
     "execution_count": 103,
     "metadata": {},
     "output_type": "execute_result"
    }
   ],
   "source": [
    "0.2*5/10"
   ]
  },
  {
   "cell_type": "code",
   "execution_count": 104,
   "id": "e1d9dba4",
   "metadata": {},
   "outputs": [
    {
     "data": {
      "text/plain": [
       "0.1"
      ]
     },
     "execution_count": 104,
     "metadata": {},
     "output_type": "execute_result"
    }
   ],
   "source": [
    "0.2*0.5"
   ]
  },
  {
   "cell_type": "markdown",
   "id": "8b5c44c0",
   "metadata": {},
   "source": [
    "# BODMAS\n",
    "- Brackets of Division Multiplication Addition Substraction"
   ]
  },
  {
   "cell_type": "markdown",
   "id": "d9c4a525",
   "metadata": {},
   "source": [
    "## Modulus\n",
    "- remainder"
   ]
  },
  {
   "cell_type": "code",
   "execution_count": 108,
   "id": "67b550c1",
   "metadata": {},
   "outputs": [
    {
     "data": {
      "text/plain": [
       "1"
      ]
     },
     "execution_count": 108,
     "metadata": {},
     "output_type": "execute_result"
    }
   ],
   "source": [
    "22%7"
   ]
  },
  {
   "cell_type": "code",
   "execution_count": 109,
   "id": "b2f03388",
   "metadata": {},
   "outputs": [
    {
     "data": {
      "text/plain": [
       "1"
      ]
     },
     "execution_count": 109,
     "metadata": {},
     "output_type": "execute_result"
    }
   ],
   "source": [
    "100%9"
   ]
  },
  {
   "cell_type": "code",
   "execution_count": 110,
   "id": "142d12c3",
   "metadata": {},
   "outputs": [
    {
     "data": {
      "text/plain": [
       "1"
      ]
     },
     "execution_count": 110,
     "metadata": {},
     "output_type": "execute_result"
    }
   ],
   "source": [
    "25%3"
   ]
  },
  {
   "cell_type": "markdown",
   "id": "b47098e3",
   "metadata": {},
   "source": [
    "# Exponential\n",
    "- ** is exponential (power)\n",
    "- '*' is Multiplication"
   ]
  },
  {
   "cell_type": "code",
   "execution_count": 113,
   "id": "5c0e259a",
   "metadata": {},
   "outputs": [
    {
     "data": {
      "text/plain": [
       "9"
      ]
     },
     "execution_count": 113,
     "metadata": {},
     "output_type": "execute_result"
    }
   ],
   "source": [
    "3**2"
   ]
  },
  {
   "cell_type": "code",
   "execution_count": 114,
   "id": "645abd9d",
   "metadata": {},
   "outputs": [
    {
     "data": {
      "text/plain": [
       "180"
      ]
     },
     "execution_count": 114,
     "metadata": {},
     "output_type": "execute_result"
    }
   ],
   "source": [
    "4*45"
   ]
  },
  {
   "cell_type": "code",
   "execution_count": 115,
   "id": "a3721a39",
   "metadata": {},
   "outputs": [
    {
     "data": {
      "text/plain": [
       "1"
      ]
     },
     "execution_count": 115,
     "metadata": {},
     "output_type": "execute_result"
    }
   ],
   "source": [
    "1**0"
   ]
  },
  {
   "cell_type": "code",
   "execution_count": 116,
   "id": "ce4f94b7",
   "metadata": {},
   "outputs": [
    {
     "data": {
      "text/plain": [
       "0"
      ]
     },
     "execution_count": 116,
     "metadata": {},
     "output_type": "execute_result"
    }
   ],
   "source": [
    "0**2"
   ]
  },
  {
   "cell_type": "code",
   "execution_count": 117,
   "id": "2a359b00",
   "metadata": {},
   "outputs": [
    {
     "data": {
      "text/plain": [
       "1"
      ]
     },
     "execution_count": 117,
     "metadata": {},
     "output_type": "execute_result"
    }
   ],
   "source": [
    "3**0"
   ]
  },
  {
   "cell_type": "markdown",
   "id": "64dd25f6",
   "metadata": {},
   "source": [
    "# Floor Division\n",
    "- whenever we use division operator / we get result as float.\n",
    "- When we do not care about decimal part, we use floor division. \n",
    "- // -  Floor division \n",
    "- /  -  Dvision\n",
    "- It doesn't round up, it just eliminates the decimal values."
   ]
  },
  {
   "cell_type": "code",
   "execution_count": 118,
   "id": "14c83bd7",
   "metadata": {},
   "outputs": [
    {
     "data": {
      "text/plain": [
       "2"
      ]
     },
     "execution_count": 118,
     "metadata": {},
     "output_type": "execute_result"
    }
   ],
   "source": [
    "4//2"
   ]
  },
  {
   "cell_type": "code",
   "execution_count": 119,
   "id": "8f4e1ebe",
   "metadata": {},
   "outputs": [
    {
     "data": {
      "text/plain": [
       "1"
      ]
     },
     "execution_count": 119,
     "metadata": {},
     "output_type": "execute_result"
    }
   ],
   "source": [
    "100//56"
   ]
  },
  {
   "cell_type": "code",
   "execution_count": 124,
   "id": "7b304a89",
   "metadata": {},
   "outputs": [
    {
     "name": "stdout",
     "output_type": "stream",
     "text": [
      "BMI is  21.604938271604937\n"
     ]
    }
   ],
   "source": [
    "height=1.8\n",
    "weight=70\n",
    "\n",
    "BMI= weight / (height**2)\n",
    "print('BMI is ',BMI)"
   ]
  },
  {
   "cell_type": "markdown",
   "id": "7af5b2a8",
   "metadata": {},
   "source": [
    "# Type Casting\n",
    "- Float has more priorty than int, bool\n",
    "- int has more priority than bool\n",
    "- String has highest priority"
   ]
  },
  {
   "cell_type": "code",
   "execution_count": 125,
   "id": "8ad59660",
   "metadata": {},
   "outputs": [
    {
     "data": {
      "text/plain": [
       "2"
      ]
     },
     "execution_count": 125,
     "metadata": {},
     "output_type": "execute_result"
    }
   ],
   "source": [
    "1 + True"
   ]
  },
  {
   "cell_type": "code",
   "execution_count": 126,
   "id": "9ac8b24a",
   "metadata": {},
   "outputs": [
    {
     "data": {
      "text/plain": [
       "5"
      ]
     },
     "execution_count": 126,
     "metadata": {},
     "output_type": "execute_result"
    }
   ],
   "source": [
    "False + 5"
   ]
  },
  {
   "cell_type": "code",
   "execution_count": 128,
   "id": "f701e963",
   "metadata": {},
   "outputs": [
    {
     "data": {
      "text/plain": [
       "6"
      ]
     },
     "execution_count": 128,
     "metadata": {},
     "output_type": "execute_result"
    }
   ],
   "source": [
    "int (2+ False+4.56)"
   ]
  },
  {
   "cell_type": "code",
   "execution_count": 129,
   "id": "b23a43e2",
   "metadata": {},
   "outputs": [
    {
     "data": {
      "text/plain": [
       "56"
      ]
     },
     "execution_count": 129,
     "metadata": {},
     "output_type": "execute_result"
    }
   ],
   "source": [
    "int (\"11\")+45\n"
   ]
  },
  {
   "cell_type": "code",
   "execution_count": 133,
   "id": "9db270b2",
   "metadata": {},
   "outputs": [
    {
     "data": {
      "text/plain": [
       "'3.14suhail'"
      ]
     },
     "execution_count": 133,
     "metadata": {},
     "output_type": "execute_result"
    }
   ],
   "source": [
    "str (3.14)+\"suhail\""
   ]
  },
  {
   "cell_type": "code",
   "execution_count": 134,
   "id": "83f9e0e8",
   "metadata": {},
   "outputs": [
    {
     "data": {
      "text/plain": [
       "True"
      ]
     },
     "execution_count": 134,
     "metadata": {},
     "output_type": "execute_result"
    }
   ],
   "source": [
    "bool(-9)"
   ]
  },
  {
   "cell_type": "code",
   "execution_count": 135,
   "id": "b9a36c80",
   "metadata": {},
   "outputs": [
    {
     "data": {
      "text/plain": [
       "False"
      ]
     },
     "execution_count": 135,
     "metadata": {},
     "output_type": "execute_result"
    }
   ],
   "source": [
    "bool()"
   ]
  },
  {
   "cell_type": "code",
   "execution_count": 136,
   "id": "d31b6ade",
   "metadata": {},
   "outputs": [
    {
     "data": {
      "text/plain": [
       "False"
      ]
     },
     "execution_count": 136,
     "metadata": {},
     "output_type": "execute_result"
    }
   ],
   "source": [
    "bool('')"
   ]
  },
  {
   "cell_type": "code",
   "execution_count": 137,
   "id": "62560a13",
   "metadata": {},
   "outputs": [
    {
     "data": {
      "text/plain": [
       "True"
      ]
     },
     "execution_count": 137,
     "metadata": {},
     "output_type": "execute_result"
    }
   ],
   "source": [
    "bool('sonu')"
   ]
  },
  {
   "cell_type": "code",
   "execution_count": null,
   "id": "a50b91fb",
   "metadata": {},
   "outputs": [],
   "source": []
  }
 ],
 "metadata": {
  "kernelspec": {
   "display_name": "Python 3",
   "language": "python",
   "name": "python3"
  },
  "language_info": {
   "codemirror_mode": {
    "name": "ipython",
    "version": 3
   },
   "file_extension": ".py",
   "mimetype": "text/x-python",
   "name": "python",
   "nbconvert_exporter": "python",
   "pygments_lexer": "ipython3",
   "version": "3.8.8"
  }
 },
 "nbformat": 4,
 "nbformat_minor": 5
}
