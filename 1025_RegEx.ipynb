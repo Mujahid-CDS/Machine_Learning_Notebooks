{
 "cells": [
  {
   "cell_type": "code",
   "execution_count": 19,
   "id": "3c74de55",
   "metadata": {},
   "outputs": [],
   "source": [
    "test = 'Suhail spend 500 Rs , Rajat spend 750 Rs , Soumya spent 1500 Rs and Rakesh spend 750 Rs'"
   ]
  },
  {
   "cell_type": "code",
   "execution_count": 2,
   "id": "507d87db",
   "metadata": {},
   "outputs": [],
   "source": [
    "import re"
   ]
  },
  {
   "cell_type": "code",
   "execution_count": 3,
   "id": "e2314760",
   "metadata": {},
   "outputs": [],
   "source": [
    "text = '#DieHardFan OF #DarlingPrabhasRed heartPRESIDENT OF @only_prabhasfanCollision symbol || Collision symbolUpcoming Films #RadheShyam ,#SALAAR #Adipurush And || #PrabhasNagAshwin #Spirit '"
   ]
  },
  {
   "cell_type": "code",
   "execution_count": 5,
   "id": "28f2fb24",
   "metadata": {},
   "outputs": [
    {
     "data": {
      "text/plain": [
       "['on', 'on', 'on']"
      ]
     },
     "execution_count": 5,
     "metadata": {},
     "output_type": "execute_result"
    }
   ],
   "source": [
    "re.findall('on',text)"
   ]
  },
  {
   "cell_type": "code",
   "execution_count": 10,
   "id": "62dab698",
   "metadata": {},
   "outputs": [
    {
     "data": {
      "text/plain": [
       "['#DieHardFan']"
      ]
     },
     "execution_count": 10,
     "metadata": {},
     "output_type": "execute_result"
    }
   ],
   "source": [
    "re.findall('#D.......an',text)"
   ]
  },
  {
   "cell_type": "code",
   "execution_count": 12,
   "id": "b4590668",
   "metadata": {},
   "outputs": [
    {
     "data": {
      "text/plain": [
       "['#SALAAR']"
      ]
     },
     "execution_count": 12,
     "metadata": {},
     "output_type": "execute_result"
    }
   ],
   "source": [
    "re.findall('#SALAAR',text)"
   ]
  },
  {
   "cell_type": "code",
   "execution_count": 13,
   "id": "887065ea",
   "metadata": {},
   "outputs": [
    {
     "data": {
      "text/plain": [
       "<re.Match object; span=(132, 139), match='#SALAAR'>"
      ]
     },
     "execution_count": 13,
     "metadata": {},
     "output_type": "execute_result"
    }
   ],
   "source": [
    "re.search('#SALAAR',text)"
   ]
  },
  {
   "cell_type": "code",
   "execution_count": 20,
   "id": "9cf9276d",
   "metadata": {},
   "outputs": [
    {
     "data": {
      "text/plain": [
       "['500 Rs', '750 Rs', '1500 Rs', '750 Rs']"
      ]
     },
     "execution_count": 20,
     "metadata": {},
     "output_type": "execute_result"
    }
   ],
   "source": [
    "re.findall('[0-9]+ Rs',test)"
   ]
  },
  {
   "cell_type": "code",
   "execution_count": 21,
   "id": "47d31e86",
   "metadata": {},
   "outputs": [],
   "source": [
    "test = 'Suhail spend 500 Rs , Rajat spend 750 Rs , Soumya spent 1500 Rs and Rakesh spend 750 Rs'"
   ]
  },
  {
   "cell_type": "code",
   "execution_count": 25,
   "id": "3b6c9bed",
   "metadata": {},
   "outputs": [
    {
     "data": {
      "text/plain": [
       "['Su',\n",
       " 'ha',\n",
       " 'il',\n",
       " 'sp',\n",
       " 'en',\n",
       " 'Rs',\n",
       " 'Ra',\n",
       " 'ja',\n",
       " 'sp',\n",
       " 'en',\n",
       " 'Rs',\n",
       " 'So',\n",
       " 'um',\n",
       " 'ya',\n",
       " 'sp',\n",
       " 'en',\n",
       " 'Rs',\n",
       " 'an',\n",
       " 'Ra',\n",
       " 'ke',\n",
       " 'sh',\n",
       " 'sp',\n",
       " 'en',\n",
       " 'Rs']"
      ]
     },
     "execution_count": 25,
     "metadata": {},
     "output_type": "execute_result"
    }
   ],
   "source": [
    "re.findall('[A-Za-z][A-Za-z]',test)"
   ]
  },
  {
   "cell_type": "code",
   "execution_count": 26,
   "id": "0c6987b0",
   "metadata": {},
   "outputs": [
    {
     "data": {
      "text/plain": [
       "['Suh',\n",
       " 'ail',\n",
       " 'spe',\n",
       " 'Raj',\n",
       " 'spe',\n",
       " 'Sou',\n",
       " 'mya',\n",
       " 'spe',\n",
       " 'and',\n",
       " 'Rak',\n",
       " 'esh',\n",
       " 'spe']"
      ]
     },
     "execution_count": 26,
     "metadata": {},
     "output_type": "execute_result"
    }
   ],
   "source": [
    "re.findall('[A-Za-z][A-Za-z][A-Za-z]',test)"
   ]
  },
  {
   "cell_type": "code",
   "execution_count": 27,
   "id": "9e8e87d1",
   "metadata": {},
   "outputs": [
    {
     "data": {
      "text/plain": [
       "['Suha', 'spen', 'Raja', 'spen', 'Soum', 'spen', 'Rake', 'spen']"
      ]
     },
     "execution_count": 27,
     "metadata": {},
     "output_type": "execute_result"
    }
   ],
   "source": [
    "re.findall('[A-Za-z][A-Za-z][A-Za-z][A-Za-z]',test)"
   ]
  },
  {
   "cell_type": "code",
   "execution_count": 28,
   "id": "aa2d74f3",
   "metadata": {},
   "outputs": [
    {
     "data": {
      "text/plain": [
       "['Suhail',\n",
       " 'spend',\n",
       " 'Rs',\n",
       " 'Rajat',\n",
       " 'spend',\n",
       " 'Rs',\n",
       " 'Soumya',\n",
       " 'spent',\n",
       " 'Rs',\n",
       " 'and',\n",
       " 'Rakesh',\n",
       " 'spend',\n",
       " 'Rs']"
      ]
     },
     "execution_count": 28,
     "metadata": {},
     "output_type": "execute_result"
    }
   ],
   "source": [
    "re.findall('[A-Za-z]+',test)"
   ]
  },
  {
   "cell_type": "code",
   "execution_count": 29,
   "id": "fa7d4d27",
   "metadata": {},
   "outputs": [],
   "source": [
    "test = 'Suhail 12-CDS-12, 2019 98890980 shamini 32-AI-12, Priyanka 30-CDS-21, Rudransh 30-CDS-21 asdf'"
   ]
  },
  {
   "cell_type": "code",
   "execution_count": 33,
   "id": "4b678369",
   "metadata": {},
   "outputs": [
    {
     "data": {
      "text/plain": [
       "['12-CDS-12', '32-AI-12', '30-CDS-21', '30-CDS-21']"
      ]
     },
     "execution_count": 33,
     "metadata": {},
     "output_type": "execute_result"
    }
   ],
   "source": [
    "re.findall('[0-9][0-9]-[A-Z]+-[0-9][0-9]', test)"
   ]
  },
  {
   "cell_type": "code",
   "execution_count": 39,
   "id": "32445e74",
   "metadata": {},
   "outputs": [
    {
     "data": {
      "text/plain": [
       "['12-CDS-12', '32-AI-12', '30-CDS-21', '30-CDS-21']"
      ]
     },
     "execution_count": 39,
     "metadata": {},
     "output_type": "execute_result"
    }
   ],
   "source": [
    "re.findall('[0-9]{2,2}-[A-Z]{2,3}-[0-9]{2,2}', test)"
   ]
  },
  {
   "cell_type": "code",
   "execution_count": 40,
   "id": "b496aff7",
   "metadata": {},
   "outputs": [],
   "source": [
    "test = '19-mms-013, ssuasf asdf sadfsadf 20-cse-123 adsf sadf asdf 12-mec-21'"
   ]
  },
  {
   "cell_type": "code",
   "execution_count": 41,
   "id": "8ff8abeb",
   "metadata": {},
   "outputs": [
    {
     "data": {
      "text/plain": [
       "['19-mms-01', '20-cse-12', '12-mec-21']"
      ]
     },
     "execution_count": 41,
     "metadata": {},
     "output_type": "execute_result"
    }
   ],
   "source": [
    "re.findall('[0-9]{2,2}-[a-z]{2,3}-[0-9]{2,2}', test)"
   ]
  },
  {
   "cell_type": "code",
   "execution_count": 42,
   "id": "2fc7c7a5",
   "metadata": {},
   "outputs": [
    {
     "data": {
      "text/plain": [
       "['19-mms-01', '20-cse-12', '12-mec-21']"
      ]
     },
     "execution_count": 42,
     "metadata": {},
     "output_type": "execute_result"
    }
   ],
   "source": [
    "re.findall('[0-9]{2,2}-[a-z]{3,3}-[0-9]{2,2}', test)"
   ]
  },
  {
   "cell_type": "code",
   "execution_count": 43,
   "id": "13fca9d7",
   "metadata": {},
   "outputs": [
    {
     "data": {
      "text/plain": [
       "['19-mms-01', '20-cse-12', '12-mec-21']"
      ]
     },
     "execution_count": 43,
     "metadata": {},
     "output_type": "execute_result"
    }
   ],
   "source": [
    "re.findall('[0-9]{2,2}-[A-Za-z]{3,3}-[0-9]{2,2}', test)"
   ]
  },
  {
   "cell_type": "code",
   "execution_count": 45,
   "id": "4b71d04d",
   "metadata": {},
   "outputs": [
    {
     "data": {
      "text/plain": [
       "[]"
      ]
     },
     "execution_count": 45,
     "metadata": {},
     "output_type": "execute_result"
    }
   ],
   "source": [
    "re.findall('9[0-9]{9}', test)"
   ]
  },
  {
   "cell_type": "code",
   "execution_count": 51,
   "id": "ff523446",
   "metadata": {},
   "outputs": [],
   "source": [
    "test='12-Fed-21'"
   ]
  },
  {
   "cell_type": "code",
   "execution_count": 52,
   "id": "b245fa8e",
   "metadata": {
    "scrolled": true
   },
   "outputs": [
    {
     "data": {
      "text/plain": [
       "['12-Fed-21']"
      ]
     },
     "execution_count": 52,
     "metadata": {},
     "output_type": "execute_result"
    }
   ],
   "source": [
    "re.findall('\\d{2}-[A-Z]{1,1}[a-z]{2,2}-\\d{2}', test)"
   ]
  },
  {
   "cell_type": "code",
   "execution_count": null,
   "id": "9ae6a35f",
   "metadata": {},
   "outputs": [],
   "source": []
  }
 ],
 "metadata": {
  "kernelspec": {
   "display_name": "Python 3",
   "language": "python",
   "name": "python3"
  },
  "language_info": {
   "codemirror_mode": {
    "name": "ipython",
    "version": 3
   },
   "file_extension": ".py",
   "mimetype": "text/x-python",
   "name": "python",
   "nbconvert_exporter": "python",
   "pygments_lexer": "ipython3",
   "version": "3.8.8"
  }
 },
 "nbformat": 4,
 "nbformat_minor": 5
}
