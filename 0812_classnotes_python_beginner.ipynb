{
 "cells": [
  {
   "cell_type": "markdown",
   "id": "4f3d011c",
   "metadata": {},
   "source": [
    "# Loops\n",
    "- For"
   ]
  },
  {
   "cell_type": "code",
   "execution_count": 1,
   "id": "7c27e53f",
   "metadata": {},
   "outputs": [
    {
     "name": "stdout",
     "output_type": "stream",
     "text": [
      "Number is 1\n",
      "Number is 2\n",
      "Number is 3\n",
      "Number is 4\n",
      "Number is 5\n",
      "Number is 6\n",
      "Number is 7\n",
      "Number is 8\n",
      "Number is 9\n",
      "Number is 10\n"
     ]
    }
   ],
   "source": [
    "for i in range(10):\n",
    "    print('Number is',i+1)"
   ]
  },
  {
   "cell_type": "markdown",
   "id": "d3bed0c2",
   "metadata": {},
   "source": [
    "# Print all even numbers between 1 to 100"
   ]
  },
  {
   "cell_type": "code",
   "execution_count": 11,
   "id": "f8a788f6",
   "metadata": {},
   "outputs": [
    {
     "name": "stdout",
     "output_type": "stream",
     "text": [
      "found an even number - 0\n",
      "found an odd number - 1\n",
      "found an even number - 2\n",
      "found an odd number - 3\n",
      "found an even number - 4\n",
      "found an odd number - 5\n",
      "found an even number - 6\n",
      "found an odd number - 7\n",
      "found an even number - 8\n",
      "found an odd number - 9\n",
      "found an even number - 10\n",
      "found an odd number - 11\n",
      "found an even number - 12\n",
      "found an odd number - 13\n",
      "found an even number - 14\n",
      "found an odd number - 15\n",
      "found an even number - 16\n",
      "found an odd number - 17\n",
      "found an even number - 18\n",
      "found an odd number - 19\n",
      "found an even number - 20\n",
      "found an odd number - 21\n",
      "found an even number - 22\n",
      "found an odd number - 23\n",
      "found an even number - 24\n",
      "found an odd number - 25\n",
      "found an even number - 26\n",
      "found an odd number - 27\n",
      "found an even number - 28\n",
      "found an odd number - 29\n",
      "found an even number - 30\n",
      "found an odd number - 31\n",
      "found an even number - 32\n",
      "found an odd number - 33\n",
      "found an even number - 34\n",
      "found an odd number - 35\n",
      "found an even number - 36\n",
      "found an odd number - 37\n",
      "found an even number - 38\n",
      "found an odd number - 39\n",
      "found an even number - 40\n",
      "found an odd number - 41\n",
      "found an even number - 42\n",
      "found an odd number - 43\n",
      "found an even number - 44\n",
      "found an odd number - 45\n",
      "found an even number - 46\n",
      "found an odd number - 47\n",
      "found an even number - 48\n",
      "found an odd number - 49\n",
      "found an even number - 50\n",
      "found an odd number - 51\n",
      "found an even number - 52\n",
      "found an odd number - 53\n",
      "found an even number - 54\n",
      "found an odd number - 55\n",
      "found an even number - 56\n",
      "found an odd number - 57\n",
      "found an even number - 58\n",
      "found an odd number - 59\n",
      "found an even number - 60\n",
      "found an odd number - 61\n",
      "found an even number - 62\n",
      "found an odd number - 63\n",
      "found an even number - 64\n",
      "found an odd number - 65\n",
      "found an even number - 66\n",
      "found an odd number - 67\n",
      "found an even number - 68\n",
      "found an odd number - 69\n",
      "found an even number - 70\n",
      "found an odd number - 71\n",
      "found an even number - 72\n",
      "found an odd number - 73\n",
      "found an even number - 74\n",
      "found an odd number - 75\n",
      "found an even number - 76\n",
      "found an odd number - 77\n",
      "found an even number - 78\n",
      "found an odd number - 79\n",
      "found an even number - 80\n",
      "found an odd number - 81\n",
      "found an even number - 82\n",
      "found an odd number - 83\n",
      "found an even number - 84\n",
      "found an odd number - 85\n",
      "found an even number - 86\n",
      "found an odd number - 87\n",
      "found an even number - 88\n",
      "found an odd number - 89\n",
      "found an even number - 90\n",
      "found an odd number - 91\n",
      "found an even number - 92\n",
      "found an odd number - 93\n",
      "found an even number - 94\n",
      "found an odd number - 95\n",
      "found an even number - 96\n",
      "found an odd number - 97\n",
      "found an even number - 98\n",
      "found an odd number - 99\n",
      "found an even number - 100\n"
     ]
    }
   ],
   "source": [
    "for i in range(101):\n",
    "    if i%2==0:\n",
    "        print('found an even number -',i)\n",
    "    else:\n",
    "        print('found an odd number -',i)"
   ]
  },
  {
   "cell_type": "markdown",
   "id": "ca0ac192",
   "metadata": {},
   "source": [
    "## Print all the numbers between 1 to 100 divisible by 3 "
   ]
  },
  {
   "cell_type": "code",
   "execution_count": 8,
   "id": "57ebf698",
   "metadata": {},
   "outputs": [
    {
     "name": "stdout",
     "output_type": "stream",
     "text": [
      "found number divisible by 3 - 0\n",
      "found number divisible by 3 - 3\n",
      "found number divisible by 3 - 6\n",
      "found number divisible by 3 - 9\n",
      "found number divisible by 3 - 12\n",
      "found number divisible by 3 - 15\n",
      "found number divisible by 3 - 18\n",
      "found number divisible by 3 - 21\n",
      "found number divisible by 3 - 24\n",
      "found number divisible by 3 - 27\n",
      "found number divisible by 3 - 30\n",
      "found number divisible by 3 - 33\n",
      "found number divisible by 3 - 36\n",
      "found number divisible by 3 - 39\n",
      "found number divisible by 3 - 42\n",
      "found number divisible by 3 - 45\n",
      "found number divisible by 3 - 48\n",
      "found number divisible by 3 - 51\n",
      "found number divisible by 3 - 54\n",
      "found number divisible by 3 - 57\n",
      "found number divisible by 3 - 60\n",
      "found number divisible by 3 - 63\n",
      "found number divisible by 3 - 66\n",
      "found number divisible by 3 - 69\n",
      "found number divisible by 3 - 72\n",
      "found number divisible by 3 - 75\n",
      "found number divisible by 3 - 78\n",
      "found number divisible by 3 - 81\n",
      "found number divisible by 3 - 84\n",
      "found number divisible by 3 - 87\n",
      "found number divisible by 3 - 90\n",
      "found number divisible by 3 - 93\n",
      "found number divisible by 3 - 96\n",
      "found number divisible by 3 - 99\n"
     ]
    }
   ],
   "source": [
    "for i in range(101):\n",
    "    if i%3==0:\n",
    "        print('found number divisible by 3 -',i)"
   ]
  },
  {
   "cell_type": "markdown",
   "id": "85fdaa8d",
   "metadata": {},
   "source": [
    "## Print all the numbers between 1 to 50 divisible by 7"
   ]
  },
  {
   "cell_type": "code",
   "execution_count": 9,
   "id": "01080ac9",
   "metadata": {},
   "outputs": [
    {
     "name": "stdout",
     "output_type": "stream",
     "text": [
      "Found a number divisible by 7 - 0\n",
      "Found a number divisible by 7 - 7\n",
      "Found a number divisible by 7 - 14\n",
      "Found a number divisible by 7 - 21\n",
      "Found a number divisible by 7 - 28\n",
      "Found a number divisible by 7 - 35\n",
      "Found a number divisible by 7 - 42\n",
      "Found a number divisible by 7 - 49\n"
     ]
    }
   ],
   "source": [
    "for i in range(51):\n",
    "    if i%7==0:\n",
    "        print('Found a number divisible by 7 -',i)"
   ]
  },
  {
   "cell_type": "code",
   "execution_count": 12,
   "id": "79061fc9",
   "metadata": {},
   "outputs": [
    {
     "name": "stdout",
     "output_type": "stream",
     "text": [
      "2000\n",
      "2002\n",
      "2004\n",
      "2006\n",
      "2008\n",
      "2010\n",
      "2012\n",
      "2014\n",
      "2016\n",
      "2018\n",
      "2020\n"
     ]
    }
   ],
   "source": [
    "for i in range(2000,2021,2):\n",
    "    print(i)"
   ]
  },
  {
   "cell_type": "markdown",
   "id": "09ee7bab",
   "metadata": {},
   "source": [
    "# Functions"
   ]
  },
  {
   "cell_type": "code",
   "execution_count": 13,
   "id": "7abcd3f0",
   "metadata": {},
   "outputs": [],
   "source": [
    "def calculateTax(salary):\n",
    "    if salary<200000:\n",
    "        print('No tax need to be paid')\n",
    "        print('Because salary is less than 2L')\n",
    "    elif salary>200000 and salary<500000:\n",
    "        tax=salary*10/100\n",
    "        print('10% tax applies')\n",
    "        print('Tax amount is', tax)\n",
    "    else:\n",
    "        tax=salary*20/100\n",
    "        print('20% tax applies')\n",
    "        print('Tax amount is', tax)"
   ]
  },
  {
   "cell_type": "code",
   "execution_count": 15,
   "id": "e2061cf5",
   "metadata": {},
   "outputs": [
    {
     "name": "stdout",
     "output_type": "stream",
     "text": [
      "No tax need to be paid\n",
      "Because salary is less than 2L\n",
      "20% tax applies\n",
      "Tax amount is 800000.0\n",
      "20% tax applies\n",
      "Tax amount is 40000.0\n",
      "20% tax applies\n",
      "Tax amount is 300000.0\n"
     ]
    }
   ],
   "source": [
    "calculateTax(3000)\n",
    "calculateTax(4000000)\n",
    "calculateTax(200000)\n",
    "calculateTax(1500000)"
   ]
  },
  {
   "cell_type": "code",
   "execution_count": 16,
   "id": "e2140ff4",
   "metadata": {},
   "outputs": [],
   "source": [
    "def evenOrodd(number):\n",
    "    if number%2==0:\n",
    "        print('Number is even - ', number)\n",
    "    else:\n",
    "        print('Number is odd - ', number)"
   ]
  },
  {
   "cell_type": "code",
   "execution_count": 17,
   "id": "f7f62254",
   "metadata": {},
   "outputs": [
    {
     "name": "stdout",
     "output_type": "stream",
     "text": [
      "Number is even -  20\n",
      "Number is odd -  21\n",
      "Number is odd -  9\n",
      "Number is odd -  87\n"
     ]
    }
   ],
   "source": [
    "evenOrodd(20)\n",
    "evenOrodd(21)\n",
    "evenOrodd(9)\n",
    "evenOrodd(87)"
   ]
  },
  {
   "cell_type": "code",
   "execution_count": 24,
   "id": "056ca22e",
   "metadata": {},
   "outputs": [
    {
     "name": "stdout",
     "output_type": "stream",
     "text": [
      "cube of number  78  is  474552\n"
     ]
    }
   ],
   "source": [
    "def cube(number):\n",
    "    Cube_number=number**3;\n",
    "    print('cube of number ',number,' is ',Cube_number)\n",
    "\n",
    "cube(78)"
   ]
  },
  {
   "cell_type": "code",
   "execution_count": 23,
   "id": "d3431866",
   "metadata": {},
   "outputs": [
    {
     "name": "stdout",
     "output_type": "stream",
     "text": [
      "cube of number  3  is  27\n"
     ]
    }
   ],
   "source": [
    "cube(3)"
   ]
  },
  {
   "cell_type": "code",
   "execution_count": 25,
   "id": "73fb5a0c",
   "metadata": {},
   "outputs": [],
   "source": [
    "def distance(speed, time):\n",
    "    print('speed is ',speed)\n",
    "    print('time is ', time)\n",
    "    distance=speed*time\n",
    "    print('distance travelled is ', distance)\n",
    "    \n"
   ]
  },
  {
   "cell_type": "code",
   "execution_count": 26,
   "id": "d09747e3",
   "metadata": {},
   "outputs": [
    {
     "name": "stdout",
     "output_type": "stream",
     "text": [
      "speed is  20\n",
      "time is  30\n",
      "distance travelled is  600\n"
     ]
    }
   ],
   "source": [
    "distance(20,30)"
   ]
  },
  {
   "cell_type": "code",
   "execution_count": 39,
   "id": "a48e2f04",
   "metadata": {},
   "outputs": [
    {
     "name": "stdout",
     "output_type": "stream",
     "text": [
      "height is  1\n",
      "weight is  18.8\n",
      "BMI is 18.8\n",
      "Normal\n"
     ]
    }
   ],
   "source": [
    "def calculateBMI(height, weight):\n",
    "        print('height is ', height)\n",
    "        print('weight is ', weight)\n",
    "        BMI= weight/(height**2)\n",
    "        print('BMI is',BMI)\n",
    "\n",
    "        if BMI<=18.5:\n",
    "            print('Under Weight')\n",
    "        elif BMI>18.5 and BMI<=25:\n",
    "            print('Normal')\n",
    "        elif BMI>25 and BMI<=30:\n",
    "            print('Over Weight')\n",
    "        else:\n",
    "            print('Obese')\n",
    "            \n",
    "calculateBMI(1,18.8)"
   ]
  },
  {
   "cell_type": "code",
   "execution_count": 41,
   "id": "56edb5c5",
   "metadata": {},
   "outputs": [
    {
     "name": "stdout",
     "output_type": "stream",
     "text": [
      "height is  2\n",
      "weight is  80\n",
      "BMI is 20.0\n",
      "Normal\n"
     ]
    }
   ],
   "source": [
    "calculateBMI(2,80)"
   ]
  },
  {
   "cell_type": "code",
   "execution_count": 48,
   "id": "43e2bc90",
   "metadata": {},
   "outputs": [
    {
     "name": "stdout",
     "output_type": "stream",
     "text": [
      "Given Feet value is  2\n",
      "value in Cms  60.96\n"
     ]
    }
   ],
   "source": [
    "def convertfttocm(feet):\n",
    "    print('Given Feet value is ', feet)\n",
    "    cm=30.48*feet\n",
    "    print('value in Cms ', cm)\n",
    "    \n",
    "convertfttocm(2)"
   ]
  },
  {
   "cell_type": "code",
   "execution_count": 43,
   "id": "d077f3ae",
   "metadata": {},
   "outputs": [
    {
     "name": "stdout",
     "output_type": "stream",
     "text": [
      "Given Feet value is  2\n",
      "value in Cms  60.96\n"
     ]
    }
   ],
   "source": [
    "convertfttocm(2)"
   ]
  },
  {
   "cell_type": "code",
   "execution_count": 49,
   "id": "237df80e",
   "metadata": {},
   "outputs": [
    {
     "name": "stdout",
     "output_type": "stream",
     "text": [
      "returned value  60.96\n"
     ]
    }
   ],
   "source": [
    "def convertfttocm(feet):\n",
    "    cm=30.48*feet\n",
    "    return cm\n",
    "    \n",
    "value_in_cm=convertfttocm(2)\n",
    "print('returned value ',value_in_cm)"
   ]
  },
  {
   "cell_type": "code",
   "execution_count": 56,
   "id": "7744f340",
   "metadata": {},
   "outputs": [
    {
     "name": "stdout",
     "output_type": "stream",
     "text": [
      "returned BMI is  Under Weight\n"
     ]
    }
   ],
   "source": [
    "def calculateBMI(height, weight):\n",
    "        BMI= weight/(height**2)\n",
    "\n",
    "        if BMI<=18.5:\n",
    "            result='Under Weight'\n",
    "        elif BMI>18.5 and BMI<=25:\n",
    "            result='Normal'\n",
    "        elif BMI>25 and BMI<=30:\n",
    "            result='Over Weight'\n",
    "        else:\n",
    "            result='Obese'\n",
    "        return result\n",
    "            \n",
    "returned_BMI=calculateBMI(1,1.8)\n",
    "print('returned BMI is ', returned_BMI)"
   ]
  },
  {
   "cell_type": "code",
   "execution_count": 61,
   "id": "b9e71eaa",
   "metadata": {},
   "outputs": [
    {
     "name": "stdout",
     "output_type": "stream",
     "text": [
      "Average is  30.0\n"
     ]
    }
   ],
   "source": [
    "def avg(a,b):\n",
    "    c=(a+b)/2\n",
    "    return c\n",
    "\n",
    "result=avg(30,30)\n",
    "print('Average is ', result)"
   ]
  },
  {
   "cell_type": "code",
   "execution_count": 75,
   "id": "0522a66e",
   "metadata": {},
   "outputs": [
    {
     "name": "stdout",
     "output_type": "stream",
     "text": [
      "Grade obtained is  Distinction\n"
     ]
    }
   ],
   "source": [
    "def Grade(percentage):\n",
    "    if percentage>75:\n",
    "            result='Distinction'\n",
    "    elif percentage>50 and percentage<=75:\n",
    "            result='Pass'\n",
    "    else:\n",
    "            result='Fail'\n",
    "    return result\n",
    "    \n",
    "grade_result=Grade(90)\n",
    "print('Grade obtained is ',grade_result)"
   ]
  },
  {
   "cell_type": "code",
   "execution_count": 77,
   "id": "60577bc7",
   "metadata": {},
   "outputs": [
    {
     "name": "stdout",
     "output_type": "stream",
     "text": [
      "Grade obtained is  Invalid percentage, Percentage cannot be negative\n"
     ]
    }
   ],
   "source": [
    "def Grade(percentage):\n",
    "    if percentage <0 :\n",
    "        result='Invalid percentage, Percentage cannot be negative'\n",
    "    elif percentage >100:\n",
    "        result='Invalid percentage, Percentage cannot exceed 100'       \n",
    "    elif percentage>75:\n",
    "            result='Distinction'\n",
    "    elif percentage>50 and percentage<=75:\n",
    "            result='Pass'\n",
    "    else:\n",
    "            result='Fail'\n",
    "    return result\n",
    "    \n",
    "grade_result=Grade(-900)\n",
    "print('Grade obtained is ',grade_result)"
   ]
  },
  {
   "cell_type": "code",
   "execution_count": null,
   "id": "39d0eb09",
   "metadata": {},
   "outputs": [],
   "source": []
  }
 ],
 "metadata": {
  "kernelspec": {
   "display_name": "Python 3",
   "language": "python",
   "name": "python3"
  },
  "language_info": {
   "codemirror_mode": {
    "name": "ipython",
    "version": 3
   },
   "file_extension": ".py",
   "mimetype": "text/x-python",
   "name": "python",
   "nbconvert_exporter": "python",
   "pygments_lexer": "ipython3",
   "version": "3.8.8"
  }
 },
 "nbformat": 4,
 "nbformat_minor": 5
}
