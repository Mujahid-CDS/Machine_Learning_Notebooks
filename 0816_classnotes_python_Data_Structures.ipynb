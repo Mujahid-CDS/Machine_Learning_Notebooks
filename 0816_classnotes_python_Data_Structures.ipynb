{
 "cells": [
  {
   "cell_type": "code",
   "execution_count": 1,
   "id": "2de54efe",
   "metadata": {},
   "outputs": [],
   "source": [
    "def checklogin(actualpassword, enteredpassword):\n",
    "    login_check = actualpassword==enteredpassword\n",
    "    return login_check\n"
   ]
  },
  {
   "cell_type": "code",
   "execution_count": 6,
   "id": "3f00f9bf",
   "metadata": {},
   "outputs": [
    {
     "name": "stdout",
     "output_type": "stream",
     "text": [
      "success\n"
     ]
    }
   ],
   "source": [
    "if checklogin('qwerty','qwerty'):\n",
    "    print('success')\n",
    "else:\n",
    "    print('incorrect password')"
   ]
  },
  {
   "cell_type": "markdown",
   "id": "f3c06d7a",
   "metadata": {},
   "source": [
    "# Lists\n",
    "- lists are heterogenous and mutable\n",
    "- represented in square brackets \n",
    "- indexing starts from 0 \n",
    "- append, extend, pop, remove, insert, sort "
   ]
  },
  {
   "cell_type": "code",
   "execution_count": 7,
   "id": "cb231429",
   "metadata": {},
   "outputs": [],
   "source": [
    "marks_stud=[20,30,40,50,60]"
   ]
  },
  {
   "cell_type": "code",
   "execution_count": 10,
   "id": "07e3b820",
   "metadata": {},
   "outputs": [
    {
     "name": "stdout",
     "output_type": "stream",
     "text": [
      "100\n"
     ]
    }
   ],
   "source": [
    "sum_nums=marks_stud[2]+marks_stud[4]\n",
    "print(sum_nums)"
   ]
  },
  {
   "cell_type": "code",
   "execution_count": 11,
   "id": "8e9d5ab3",
   "metadata": {},
   "outputs": [],
   "source": [
    "list2=[1,'Mojo',3.14,5, True]"
   ]
  },
  {
   "cell_type": "code",
   "execution_count": 12,
   "id": "4888ef4e",
   "metadata": {},
   "outputs": [
    {
     "name": "stdout",
     "output_type": "stream",
     "text": [
      "[1, 'Mojo', 3.14, 5, True]\n"
     ]
    }
   ],
   "source": [
    "print(list2)"
   ]
  },
  {
   "cell_type": "code",
   "execution_count": 13,
   "id": "2c2fbf7f",
   "metadata": {},
   "outputs": [
    {
     "name": "stdout",
     "output_type": "stream",
     "text": [
      "3.14\n"
     ]
    }
   ],
   "source": [
    "print(list2[2])"
   ]
  },
  {
   "cell_type": "code",
   "execution_count": 14,
   "id": "54e72d6c",
   "metadata": {},
   "outputs": [],
   "source": [
    "list2[1]='Sony'"
   ]
  },
  {
   "cell_type": "code",
   "execution_count": 15,
   "id": "bff0587d",
   "metadata": {},
   "outputs": [
    {
     "name": "stdout",
     "output_type": "stream",
     "text": [
      "[1, 'Sony', 3.14, 5, True]\n"
     ]
    }
   ],
   "source": [
    "print(list2)"
   ]
  },
  {
   "cell_type": "code",
   "execution_count": 17,
   "id": "a30f8ca5",
   "metadata": {},
   "outputs": [
    {
     "name": "stdout",
     "output_type": "stream",
     "text": [
      "[3.14, 430, 'pavitra', 'ayush', 'abhishek', 45]\n"
     ]
    }
   ],
   "source": [
    "list_1=[3.14,430,'pavitra','ayush','suhail',45]\n",
    "list_1[4]='abhishek'\n",
    "print(list_1)"
   ]
  },
  {
   "cell_type": "code",
   "execution_count": 18,
   "id": "389c06c5",
   "metadata": {},
   "outputs": [],
   "source": [
    "athome=['mom','dad','me']"
   ]
  },
  {
   "cell_type": "code",
   "execution_count": 19,
   "id": "44618e57",
   "metadata": {},
   "outputs": [],
   "source": [
    "athome.append('uncle')"
   ]
  },
  {
   "cell_type": "code",
   "execution_count": 20,
   "id": "340a9351",
   "metadata": {},
   "outputs": [],
   "source": [
    "athome.append('aunt')"
   ]
  },
  {
   "cell_type": "code",
   "execution_count": 21,
   "id": "c15e0b89",
   "metadata": {},
   "outputs": [
    {
     "name": "stdout",
     "output_type": "stream",
     "text": [
      "['mom', 'dad', 'me', 'uncle', 'aunt']\n"
     ]
    }
   ],
   "source": [
    "print(athome)"
   ]
  },
  {
   "cell_type": "code",
   "execution_count": 22,
   "id": "c38c08d9",
   "metadata": {},
   "outputs": [],
   "source": [
    "athome.append('brother')"
   ]
  },
  {
   "cell_type": "code",
   "execution_count": 23,
   "id": "b32fc65d",
   "metadata": {},
   "outputs": [
    {
     "name": "stdout",
     "output_type": "stream",
     "text": [
      "['mom', 'dad', 'me', 'uncle', 'aunt', 'brother']\n"
     ]
    }
   ],
   "source": [
    "print(athome)"
   ]
  },
  {
   "cell_type": "code",
   "execution_count": 24,
   "id": "39d11790",
   "metadata": {},
   "outputs": [],
   "source": [
    "athome.extend(['uncle2','aunt2','sister'])"
   ]
  },
  {
   "cell_type": "code",
   "execution_count": 25,
   "id": "6b0e24dd",
   "metadata": {},
   "outputs": [
    {
     "name": "stdout",
     "output_type": "stream",
     "text": [
      "['mom', 'dad', 'me', 'uncle', 'aunt', 'brother', 'uncle2', 'aunt2', 'sister']\n"
     ]
    }
   ],
   "source": [
    "print(athome)"
   ]
  },
  {
   "cell_type": "code",
   "execution_count": 29,
   "id": "3cb06ded",
   "metadata": {},
   "outputs": [
    {
     "data": {
      "text/plain": [
       "'aunt2'"
      ]
     },
     "execution_count": 29,
     "metadata": {},
     "output_type": "execute_result"
    }
   ],
   "source": [
    "athome.pop(6)"
   ]
  },
  {
   "cell_type": "code",
   "execution_count": 30,
   "id": "cdf9d7c4",
   "metadata": {},
   "outputs": [
    {
     "name": "stdout",
     "output_type": "stream",
     "text": [
      "['mom', 'dad', 'me', 'uncle', 'aunt', 'brother', 'sister']\n"
     ]
    }
   ],
   "source": [
    "print(athome)"
   ]
  },
  {
   "cell_type": "code",
   "execution_count": 37,
   "id": "72aff88d",
   "metadata": {},
   "outputs": [
    {
     "data": {
      "text/plain": [
       "'brother'"
      ]
     },
     "execution_count": 37,
     "metadata": {},
     "output_type": "execute_result"
    }
   ],
   "source": [
    "athome.pop()"
   ]
  },
  {
   "cell_type": "code",
   "execution_count": 38,
   "id": "e9f5936e",
   "metadata": {},
   "outputs": [
    {
     "name": "stdout",
     "output_type": "stream",
     "text": [
      "['mom', 'dad', 'me', 'cook', 'aunt']\n"
     ]
    }
   ],
   "source": [
    "print(athome)"
   ]
  },
  {
   "cell_type": "code",
   "execution_count": 33,
   "id": "8c9bc41f",
   "metadata": {},
   "outputs": [],
   "source": [
    "athome.remove('sister')"
   ]
  },
  {
   "cell_type": "code",
   "execution_count": 34,
   "id": "84874c79",
   "metadata": {},
   "outputs": [
    {
     "name": "stdout",
     "output_type": "stream",
     "text": [
      "['mom', 'dad', 'me', 'aunt', 'brother']\n"
     ]
    }
   ],
   "source": [
    "print(athome)"
   ]
  },
  {
   "cell_type": "code",
   "execution_count": 35,
   "id": "08f1a366",
   "metadata": {},
   "outputs": [],
   "source": [
    "athome.insert(3,'cook')"
   ]
  },
  {
   "cell_type": "code",
   "execution_count": 36,
   "id": "3fe6c06f",
   "metadata": {},
   "outputs": [
    {
     "name": "stdout",
     "output_type": "stream",
     "text": [
      "['mom', 'dad', 'me', 'cook', 'aunt', 'brother']\n"
     ]
    }
   ],
   "source": [
    "print(athome)"
   ]
  },
  {
   "cell_type": "code",
   "execution_count": 40,
   "id": "ca5f541d",
   "metadata": {},
   "outputs": [],
   "source": [
    "athome.sort()"
   ]
  },
  {
   "cell_type": "code",
   "execution_count": 41,
   "id": "3ea8872e",
   "metadata": {},
   "outputs": [
    {
     "name": "stdout",
     "output_type": "stream",
     "text": [
      "['aunt', 'cook', 'dad', 'me', 'mom']\n"
     ]
    }
   ],
   "source": [
    "print(athome)"
   ]
  },
  {
   "cell_type": "code",
   "execution_count": 46,
   "id": "fc8be987",
   "metadata": {},
   "outputs": [],
   "source": [
    "list_colour=['red','green','blue']\n",
    "list_colour.append('black')\n",
    "list_colour.extend(['yellow','grey'])\n",
    "list_colour.remove('black')\n",
    "list_colour.insert(1,'pink')"
   ]
  },
  {
   "cell_type": "code",
   "execution_count": 47,
   "id": "6b9b82e7",
   "metadata": {},
   "outputs": [
    {
     "data": {
      "text/plain": [
       "['red', 'pink', 'green', 'blue', 'yellow', 'grey']"
      ]
     },
     "execution_count": 47,
     "metadata": {},
     "output_type": "execute_result"
    }
   ],
   "source": [
    "list_colour"
   ]
  },
  {
   "cell_type": "markdown",
   "id": "bb2f066f",
   "metadata": {},
   "source": [
    "# Tuple\n",
    "- similar to tuple\n",
    "- heterogeneous \n",
    "- non mutable"
   ]
  },
  {
   "cell_type": "code",
   "execution_count": 49,
   "id": "0c75b3f3",
   "metadata": {},
   "outputs": [],
   "source": [
    "firsttuple=('sony',3.14,3,'sam')"
   ]
  },
  {
   "cell_type": "code",
   "execution_count": 50,
   "id": "927a6955",
   "metadata": {},
   "outputs": [
    {
     "name": "stdout",
     "output_type": "stream",
     "text": [
      "('sony', 3.14, 3, 'sam')\n"
     ]
    }
   ],
   "source": [
    "print(firsttuple)"
   ]
  },
  {
   "cell_type": "code",
   "execution_count": 51,
   "id": "3c3a7c98",
   "metadata": {},
   "outputs": [
    {
     "data": {
      "text/plain": [
       "3.14"
      ]
     },
     "execution_count": 51,
     "metadata": {},
     "output_type": "execute_result"
    }
   ],
   "source": [
    "firsttuple[1]"
   ]
  },
  {
   "cell_type": "code",
   "execution_count": 52,
   "id": "0a5dde34",
   "metadata": {},
   "outputs": [
    {
     "ename": "TypeError",
     "evalue": "'tuple' object does not support item assignment",
     "output_type": "error",
     "traceback": [
      "\u001b[1;31m---------------------------------------------------------------------------\u001b[0m",
      "\u001b[1;31mTypeError\u001b[0m                                 Traceback (most recent call last)",
      "\u001b[1;32m<ipython-input-52-4d0f2b805bb7>\u001b[0m in \u001b[0;36m<module>\u001b[1;34m\u001b[0m\n\u001b[1;32m----> 1\u001b[1;33m \u001b[0mfirsttuple\u001b[0m\u001b[1;33m[\u001b[0m\u001b[1;36m1\u001b[0m\u001b[1;33m]\u001b[0m\u001b[1;33m=\u001b[0m\u001b[1;34m'dad'\u001b[0m\u001b[1;33m\u001b[0m\u001b[1;33m\u001b[0m\u001b[0m\n\u001b[0m",
      "\u001b[1;31mTypeError\u001b[0m: 'tuple' object does not support item assignment"
     ]
    }
   ],
   "source": [
    "firsttuple[1]='dad'"
   ]
  },
  {
   "cell_type": "code",
   "execution_count": 53,
   "id": "6f8505bf",
   "metadata": {},
   "outputs": [
    {
     "data": {
      "text/plain": [
       "'blue'"
      ]
     },
     "execution_count": 53,
     "metadata": {},
     "output_type": "execute_result"
    }
   ],
   "source": [
    "list_colour[-3]"
   ]
  },
  {
   "cell_type": "code",
   "execution_count": 55,
   "id": "65ca0482",
   "metadata": {},
   "outputs": [
    {
     "data": {
      "text/plain": [
       "30"
      ]
     },
     "execution_count": 55,
     "metadata": {},
     "output_type": "execute_result"
    }
   ],
   "source": [
    "a=10\n",
    "b=20\n",
    "c=30\n",
    "\n",
    "a\n",
    "b\n",
    "c"
   ]
  },
  {
   "cell_type": "code",
   "execution_count": 57,
   "id": "e4de6940",
   "metadata": {},
   "outputs": [
    {
     "name": "stdout",
     "output_type": "stream",
     "text": [
      "10\n",
      "20\n",
      "30\n"
     ]
    }
   ],
   "source": [
    "a=10\n",
    "b=20\n",
    "c=30\n",
    "\n",
    "print(a)\n",
    "print(b)\n",
    "print(c)"
   ]
  },
  {
   "cell_type": "markdown",
   "id": "bc5cf259",
   "metadata": {},
   "source": [
    "# Dictionary"
   ]
  },
  {
   "cell_type": "code",
   "execution_count": 59,
   "id": "c45701fd",
   "metadata": {},
   "outputs": [],
   "source": [
    "person = {'name':'sony', 'age':4, 'occupation':'Data Scientist', 'fav_fruit':'Mango'}"
   ]
  },
  {
   "cell_type": "code",
   "execution_count": 60,
   "id": "2cbf3fe1",
   "metadata": {},
   "outputs": [
    {
     "name": "stdout",
     "output_type": "stream",
     "text": [
      "{'name': 'sony', 'age': 4, 'occupation': 'Data Scientist', 'fav_fruit': 'Mango'}\n"
     ]
    }
   ],
   "source": [
    "print(person)"
   ]
  },
  {
   "cell_type": "code",
   "execution_count": 61,
   "id": "871d342c",
   "metadata": {},
   "outputs": [
    {
     "data": {
      "text/plain": [
       "{'name': 'sony',\n",
       " 'age': 4,\n",
       " 'occupation': 'Data Scientist',\n",
       " 'fav_fruit': 'Mango'}"
      ]
     },
     "execution_count": 61,
     "metadata": {},
     "output_type": "execute_result"
    }
   ],
   "source": [
    "person"
   ]
  },
  {
   "cell_type": "code",
   "execution_count": 66,
   "id": "540a0f58",
   "metadata": {},
   "outputs": [
    {
     "data": {
      "text/plain": [
       "'sony'"
      ]
     },
     "execution_count": 66,
     "metadata": {},
     "output_type": "execute_result"
    }
   ],
   "source": [
    "person['name']"
   ]
  },
  {
   "cell_type": "code",
   "execution_count": 67,
   "id": "22f6ddb4",
   "metadata": {},
   "outputs": [
    {
     "data": {
      "text/plain": [
       "4"
      ]
     },
     "execution_count": 67,
     "metadata": {},
     "output_type": "execute_result"
    }
   ],
   "source": [
    "person['age']"
   ]
  },
  {
   "cell_type": "code",
   "execution_count": 68,
   "id": "f8085548",
   "metadata": {},
   "outputs": [],
   "source": [
    "student = {'name':'Donald', 'grade':7, 'perc':92, 'sports':['football','cricket']}"
   ]
  },
  {
   "cell_type": "code",
   "execution_count": 69,
   "id": "b4d3c663",
   "metadata": {},
   "outputs": [
    {
     "name": "stdout",
     "output_type": "stream",
     "text": [
      "{'name': 'Donald', 'grade': 7, 'perc': 92, 'sports': ['football', 'cricket']}\n"
     ]
    }
   ],
   "source": [
    "print(student)"
   ]
  },
  {
   "cell_type": "code",
   "execution_count": 73,
   "id": "50d39486",
   "metadata": {},
   "outputs": [
    {
     "name": "stdout",
     "output_type": "stream",
     "text": [
      "football\n"
     ]
    }
   ],
   "source": [
    "print(student['sports'][0])"
   ]
  },
  {
   "cell_type": "markdown",
   "id": "2f0f253b",
   "metadata": {},
   "source": [
    "### Dictionary"
   ]
  },
  {
   "cell_type": "code",
   "execution_count": 77,
   "id": "bc104e27",
   "metadata": {},
   "outputs": [
    {
     "data": {
      "text/plain": [
       "{'name': 'Gandalf',\n",
       " 'occupation': 'wizard',\n",
       " 'friends': ['bilbo', 'frodo'],\n",
       " 'movie': 'lord of rings',\n",
       " 'release date': 2001}"
      ]
     },
     "execution_count": 77,
     "metadata": {},
     "output_type": "execute_result"
    }
   ],
   "source": [
    "dict_movie = {'name':'Gandalf', 'occupation': 'wizard', 'friends':['bilbo','frodo'], 'movie':'lord of rings', 'release date': 2001}\n",
    "dict_movie"
   ]
  },
  {
   "cell_type": "code",
   "execution_count": 75,
   "id": "d6f56fd1",
   "metadata": {},
   "outputs": [
    {
     "name": "stdout",
     "output_type": "stream",
     "text": [
      "{'name': 'Gandalf', 'occupation': 'wizard', 'friends': ['bilbo', 'frodo'], 'movie': 'lord of rings', 'release date': 2001}\n"
     ]
    }
   ],
   "source": [
    "print(dict_movie)"
   ]
  },
  {
   "cell_type": "code",
   "execution_count": 79,
   "id": "5b913c41",
   "metadata": {},
   "outputs": [
    {
     "data": {
      "text/plain": [
       "['bilbo', 'frodo']"
      ]
     },
     "execution_count": 79,
     "metadata": {},
     "output_type": "execute_result"
    }
   ],
   "source": [
    "dict_movie['friends']"
   ]
  },
  {
   "cell_type": "markdown",
   "id": "758d6e89",
   "metadata": {},
   "source": [
    "# Set\n",
    "- unordered"
   ]
  },
  {
   "cell_type": "code",
   "execution_count": 81,
   "id": "9fb5e0b6",
   "metadata": {},
   "outputs": [],
   "source": [
    "set1 = {'apple', 'lion',3.14,6, 'banana'}"
   ]
  },
  {
   "cell_type": "code",
   "execution_count": 82,
   "id": "ea9a168e",
   "metadata": {},
   "outputs": [
    {
     "name": "stdout",
     "output_type": "stream",
     "text": [
      "{3.14, 6, 'apple', 'lion', 'banana'}\n"
     ]
    }
   ],
   "source": [
    "print(set1)"
   ]
  },
  {
   "cell_type": "code",
   "execution_count": 83,
   "id": "87d459e2",
   "metadata": {},
   "outputs": [],
   "source": [
    "set2 = {'apple', 'lion',3.14,6, 'banana','apple','apple'}"
   ]
  },
  {
   "cell_type": "code",
   "execution_count": 84,
   "id": "89342fe1",
   "metadata": {},
   "outputs": [
    {
     "name": "stdout",
     "output_type": "stream",
     "text": [
      "{3.14, 6, 'apple', 'lion', 'banana'}\n"
     ]
    }
   ],
   "source": [
    "print(set2)"
   ]
  },
  {
   "cell_type": "code",
   "execution_count": 85,
   "id": "11740665",
   "metadata": {},
   "outputs": [],
   "source": [
    "set_languages={'python', 'rust', 'java', 'c', 'JavaScript', 'C++', 'Haskel'}"
   ]
  },
  {
   "cell_type": "code",
   "execution_count": 86,
   "id": "e30c3944",
   "metadata": {},
   "outputs": [],
   "source": [
    "set_snakes= {'python', 'Cobra', 'rattle', 'viper'}"
   ]
  },
  {
   "cell_type": "code",
   "execution_count": 88,
   "id": "cf1208ac",
   "metadata": {},
   "outputs": [
    {
     "data": {
      "text/plain": [
       "{'python'}"
      ]
     },
     "execution_count": 88,
     "metadata": {},
     "output_type": "execute_result"
    }
   ],
   "source": [
    "set_snakes.intersection(set_languages)"
   ]
  },
  {
   "cell_type": "code",
   "execution_count": 89,
   "id": "5ec36e5e",
   "metadata": {},
   "outputs": [
    {
     "data": {
      "text/plain": [
       "{'C++',\n",
       " 'Cobra',\n",
       " 'Haskel',\n",
       " 'JavaScript',\n",
       " 'c',\n",
       " 'java',\n",
       " 'python',\n",
       " 'rattle',\n",
       " 'rust',\n",
       " 'viper'}"
      ]
     },
     "execution_count": 89,
     "metadata": {},
     "output_type": "execute_result"
    }
   ],
   "source": [
    "set_snakes.union(set_languages)"
   ]
  },
  {
   "cell_type": "code",
   "execution_count": null,
   "id": "2beff68d",
   "metadata": {},
   "outputs": [],
   "source": []
  }
 ],
 "metadata": {
  "kernelspec": {
   "display_name": "Python 3",
   "language": "python",
   "name": "python3"
  },
  "language_info": {
   "codemirror_mode": {
    "name": "ipython",
    "version": 3
   },
   "file_extension": ".py",
   "mimetype": "text/x-python",
   "name": "python",
   "nbconvert_exporter": "python",
   "pygments_lexer": "ipython3",
   "version": "3.8.8"
  }
 },
 "nbformat": 4,
 "nbformat_minor": 5
}
