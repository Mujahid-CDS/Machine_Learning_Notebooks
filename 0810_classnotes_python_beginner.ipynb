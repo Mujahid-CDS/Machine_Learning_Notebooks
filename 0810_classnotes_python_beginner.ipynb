{
 "cells": [
  {
   "cell_type": "markdown",
   "id": "c572a579",
   "metadata": {},
   "source": [
    "# Comparision Operators\n",
    "- '>' greater than operator\n",
    "- '<' less than operator\n",
    "- '==' equal to operator\n",
    "- '!=' not equal to"
   ]
  },
  {
   "cell_type": "code",
   "execution_count": 1,
   "id": "63c31ad0",
   "metadata": {},
   "outputs": [
    {
     "data": {
      "text/plain": [
       "True"
      ]
     },
     "execution_count": 1,
     "metadata": {},
     "output_type": "execute_result"
    }
   ],
   "source": [
    "50>23"
   ]
  },
  {
   "cell_type": "code",
   "execution_count": 2,
   "id": "5e955135",
   "metadata": {},
   "outputs": [
    {
     "data": {
      "text/plain": [
       "False"
      ]
     },
     "execution_count": 2,
     "metadata": {},
     "output_type": "execute_result"
    }
   ],
   "source": [
    "23>23"
   ]
  },
  {
   "cell_type": "code",
   "execution_count": 4,
   "id": "8f9ff187",
   "metadata": {},
   "outputs": [
    {
     "data": {
      "text/plain": [
       "True"
      ]
     },
     "execution_count": 4,
     "metadata": {},
     "output_type": "execute_result"
    }
   ],
   "source": [
    "22==22"
   ]
  },
  {
   "cell_type": "code",
   "execution_count": 5,
   "id": "8c17f074",
   "metadata": {},
   "outputs": [
    {
     "data": {
      "text/plain": [
       "True"
      ]
     },
     "execution_count": 5,
     "metadata": {},
     "output_type": "execute_result"
    }
   ],
   "source": [
    "23>=23"
   ]
  },
  {
   "cell_type": "code",
   "execution_count": 6,
   "id": "90fc583c",
   "metadata": {},
   "outputs": [
    {
     "data": {
      "text/plain": [
       "2"
      ]
     },
     "execution_count": 6,
     "metadata": {},
     "output_type": "execute_result"
    }
   ],
   "source": [
    "1+(10>8)"
   ]
  },
  {
   "cell_type": "code",
   "execution_count": 7,
   "id": "2a3dadfa",
   "metadata": {},
   "outputs": [
    {
     "data": {
      "text/plain": [
       "False"
      ]
     },
     "execution_count": 7,
     "metadata": {},
     "output_type": "execute_result"
    }
   ],
   "source": [
    "40==50"
   ]
  },
  {
   "cell_type": "code",
   "execution_count": 2,
   "id": "bdce4f07",
   "metadata": {},
   "outputs": [],
   "source": [
    "num1=3.14\n",
    "num2=6.24"
   ]
  },
  {
   "cell_type": "code",
   "execution_count": 3,
   "id": "5c0e737c",
   "metadata": {},
   "outputs": [
    {
     "data": {
      "text/plain": [
       "False"
      ]
     },
     "execution_count": 3,
     "metadata": {},
     "output_type": "execute_result"
    }
   ],
   "source": [
    "num1==num2"
   ]
  },
  {
   "cell_type": "code",
   "execution_count": 7,
   "id": "b9fb5423",
   "metadata": {},
   "outputs": [
    {
     "data": {
      "text/plain": [
       "True"
      ]
     },
     "execution_count": 7,
     "metadata": {},
     "output_type": "execute_result"
    }
   ],
   "source": [
    "n1=10\n",
    "n2=3.14\n",
    "n3=100\n",
    "n4=50\n",
    "n5=10\n",
    "\n",
    "\n",
    "n1>=n5"
   ]
  },
  {
   "cell_type": "code",
   "execution_count": 8,
   "id": "e89bb6d3",
   "metadata": {},
   "outputs": [
    {
     "data": {
      "text/plain": [
       "False"
      ]
     },
     "execution_count": 8,
     "metadata": {},
     "output_type": "execute_result"
    }
   ],
   "source": [
    "n1==n3"
   ]
  },
  {
   "cell_type": "code",
   "execution_count": 10,
   "id": "590716a8",
   "metadata": {},
   "outputs": [
    {
     "data": {
      "text/plain": [
       "True"
      ]
     },
     "execution_count": 10,
     "metadata": {},
     "output_type": "execute_result"
    }
   ],
   "source": [
    "n1==(n3/10)"
   ]
  },
  {
   "cell_type": "code",
   "execution_count": 11,
   "id": "73690ed2",
   "metadata": {},
   "outputs": [
    {
     "data": {
      "text/plain": [
       "True"
      ]
     },
     "execution_count": 11,
     "metadata": {},
     "output_type": "execute_result"
    }
   ],
   "source": [
    "n1<=(n4/5)"
   ]
  },
  {
   "cell_type": "code",
   "execution_count": 12,
   "id": "ec751e05",
   "metadata": {},
   "outputs": [
    {
     "data": {
      "text/plain": [
       "False"
      ]
     },
     "execution_count": 12,
     "metadata": {},
     "output_type": "execute_result"
    }
   ],
   "source": [
    "n4>=(100/10)*20"
   ]
  },
  {
   "cell_type": "code",
   "execution_count": 13,
   "id": "ad5187f9",
   "metadata": {},
   "outputs": [],
   "source": [
    "n1=10\n",
    "n2=20\n",
    "n3=20"
   ]
  },
  {
   "cell_type": "code",
   "execution_count": 14,
   "id": "2221d5da",
   "metadata": {},
   "outputs": [
    {
     "data": {
      "text/plain": [
       "True"
      ]
     },
     "execution_count": 14,
     "metadata": {},
     "output_type": "execute_result"
    }
   ],
   "source": [
    "n1!=n3"
   ]
  },
  {
   "cell_type": "code",
   "execution_count": 16,
   "id": "a10a9017",
   "metadata": {},
   "outputs": [
    {
     "data": {
      "text/plain": [
       "False"
      ]
     },
     "execution_count": 16,
     "metadata": {},
     "output_type": "execute_result"
    }
   ],
   "source": [
    "n2!=n3"
   ]
  },
  {
   "cell_type": "markdown",
   "id": "84746a70",
   "metadata": {},
   "source": [
    "# logical operators\n",
    "- and operator\n",
    "- or operator \n",
    "- not operator"
   ]
  },
  {
   "cell_type": "code",
   "execution_count": 17,
   "id": "0b81a558",
   "metadata": {},
   "outputs": [],
   "source": [
    "n1=10\n",
    "n2=10\n",
    "n3=10"
   ]
  },
  {
   "cell_type": "code",
   "execution_count": 18,
   "id": "60ef6fb5",
   "metadata": {},
   "outputs": [
    {
     "data": {
      "text/plain": [
       "True"
      ]
     },
     "execution_count": 18,
     "metadata": {},
     "output_type": "execute_result"
    }
   ],
   "source": [
    "n1==n2"
   ]
  },
  {
   "cell_type": "code",
   "execution_count": 19,
   "id": "b90ec0c7",
   "metadata": {},
   "outputs": [
    {
     "data": {
      "text/plain": [
       "True"
      ]
     },
     "execution_count": 19,
     "metadata": {},
     "output_type": "execute_result"
    }
   ],
   "source": [
    "n2==n3"
   ]
  },
  {
   "cell_type": "code",
   "execution_count": 20,
   "id": "c13a0f5f",
   "metadata": {},
   "outputs": [
    {
     "data": {
      "text/plain": [
       "True"
      ]
     },
     "execution_count": 20,
     "metadata": {},
     "output_type": "execute_result"
    }
   ],
   "source": [
    "n1==n2 and n2==n3"
   ]
  },
  {
   "cell_type": "code",
   "execution_count": 21,
   "id": "7050a17e",
   "metadata": {},
   "outputs": [
    {
     "data": {
      "text/plain": [
       "True"
      ]
     },
     "execution_count": 21,
     "metadata": {},
     "output_type": "execute_result"
    }
   ],
   "source": [
    "10>3 and 10>4"
   ]
  },
  {
   "cell_type": "code",
   "execution_count": 23,
   "id": "9eed244e",
   "metadata": {},
   "outputs": [
    {
     "data": {
      "text/plain": [
       "False"
      ]
     },
     "execution_count": 23,
     "metadata": {},
     "output_type": "execute_result"
    }
   ],
   "source": [
    "10>4 and 3>5"
   ]
  },
  {
   "cell_type": "code",
   "execution_count": 24,
   "id": "966cc1d5",
   "metadata": {},
   "outputs": [],
   "source": [
    "n1=10\n",
    "n2=20\n",
    "n3=3.14"
   ]
  },
  {
   "cell_type": "code",
   "execution_count": 26,
   "id": "dcc9cfce",
   "metadata": {},
   "outputs": [
    {
     "data": {
      "text/plain": [
       "False"
      ]
     },
     "execution_count": 26,
     "metadata": {},
     "output_type": "execute_result"
    }
   ],
   "source": [
    "n1<n1 and n3==3.14"
   ]
  },
  {
   "cell_type": "code",
   "execution_count": 28,
   "id": "86382a69",
   "metadata": {},
   "outputs": [
    {
     "data": {
      "text/plain": [
       "True"
      ]
     },
     "execution_count": 28,
     "metadata": {},
     "output_type": "execute_result"
    }
   ],
   "source": [
    "n1==(n2/2) and n2>n1"
   ]
  },
  {
   "cell_type": "code",
   "execution_count": 29,
   "id": "08b46f99",
   "metadata": {},
   "outputs": [],
   "source": [
    "English=80\n",
    "Maths=71"
   ]
  },
  {
   "cell_type": "code",
   "execution_count": 32,
   "id": "d444e3dc",
   "metadata": {},
   "outputs": [
    {
     "data": {
      "text/plain": [
       "True"
      ]
     },
     "execution_count": 32,
     "metadata": {},
     "output_type": "execute_result"
    }
   ],
   "source": [
    "Maths>=70"
   ]
  },
  {
   "cell_type": "code",
   "execution_count": 34,
   "id": "78a9be0c",
   "metadata": {},
   "outputs": [
    {
     "data": {
      "text/plain": [
       "True"
      ]
     },
     "execution_count": 34,
     "metadata": {},
     "output_type": "execute_result"
    }
   ],
   "source": [
    "English >=80 or Maths>99"
   ]
  },
  {
   "cell_type": "code",
   "execution_count": 36,
   "id": "7c090bda",
   "metadata": {},
   "outputs": [
    {
     "data": {
      "text/plain": [
       "False"
      ]
     },
     "execution_count": 36,
     "metadata": {},
     "output_type": "execute_result"
    }
   ],
   "source": [
    "n1=100\n",
    "n2=10\n",
    "n3=200\n",
    "\n",
    "(n1/n2==n2 and n3/2==2) and (n3/2==1 and n1/n2==n2)"
   ]
  },
  {
   "cell_type": "code",
   "execution_count": 37,
   "id": "31786e10",
   "metadata": {},
   "outputs": [
    {
     "data": {
      "text/plain": [
       "False"
      ]
     },
     "execution_count": 37,
     "metadata": {},
     "output_type": "execute_result"
    }
   ],
   "source": [
    "n1==n2==n3"
   ]
  },
  {
   "cell_type": "code",
   "execution_count": 38,
   "id": "ae311113",
   "metadata": {},
   "outputs": [
    {
     "data": {
      "text/plain": [
       "True"
      ]
     },
     "execution_count": 38,
     "metadata": {},
     "output_type": "execute_result"
    }
   ],
   "source": [
    "10!=9"
   ]
  },
  {
   "cell_type": "code",
   "execution_count": 40,
   "id": "88cd81be",
   "metadata": {},
   "outputs": [
    {
     "data": {
      "text/plain": [
       "False"
      ]
     },
     "execution_count": 40,
     "metadata": {},
     "output_type": "execute_result"
    }
   ],
   "source": [
    "not 10>9 #not condition"
   ]
  },
  {
   "cell_type": "code",
   "execution_count": 39,
   "id": "7e5656d1",
   "metadata": {},
   "outputs": [
    {
     "data": {
      "text/plain": [
       "True"
      ]
     },
     "execution_count": 39,
     "metadata": {},
     "output_type": "execute_result"
    }
   ],
   "source": [
    "a=10\n",
    "b=20\n",
    "c=30\n",
    "\n",
    "c>b and c>a"
   ]
  },
  {
   "cell_type": "markdown",
   "id": "2558425b",
   "metadata": {},
   "source": [
    " # Conditional statements "
   ]
  },
  {
   "cell_type": "code",
   "execution_count": 47,
   "id": "089017ef",
   "metadata": {},
   "outputs": [
    {
     "name": "stdout",
     "output_type": "stream",
     "text": [
      "10% tax applies\n",
      "tax amount is 21345678.900000002\n"
     ]
    }
   ],
   "source": [
    "salary = 213456789\n",
    "\n",
    "if (salary>2000000):\n",
    "    print ('10% tax applies')\n",
    "    tax = salary*0.1\n",
    "    print('tax amount is', tax)\n",
    "else:\n",
    "    print ('No tax deducted')\n",
    "    "
   ]
  },
  {
   "cell_type": "code",
   "execution_count": null,
   "id": "9bb6fd1e",
   "metadata": {},
   "outputs": [],
   "source": []
  }
 ],
 "metadata": {
  "kernelspec": {
   "display_name": "Python 3",
   "language": "python",
   "name": "python3"
  },
  "language_info": {
   "codemirror_mode": {
    "name": "ipython",
    "version": 3
   },
   "file_extension": ".py",
   "mimetype": "text/x-python",
   "name": "python",
   "nbconvert_exporter": "python",
   "pygments_lexer": "ipython3",
   "version": "3.8.8"
  }
 },
 "nbformat": 4,
 "nbformat_minor": 5
}
