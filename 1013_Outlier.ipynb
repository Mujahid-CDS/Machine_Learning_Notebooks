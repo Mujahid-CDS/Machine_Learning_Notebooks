{
 "cells": [
  {
   "cell_type": "code",
   "execution_count": 14,
   "id": "50aa1168",
   "metadata": {},
   "outputs": [],
   "source": [
    "import pandas as pd\n",
    "import numpy as np\n",
    "import matplotlib.pyplot as plt\n",
    "import seaborn as sns"
   ]
  },
  {
   "cell_type": "code",
   "execution_count": 6,
   "id": "113534eb",
   "metadata": {},
   "outputs": [],
   "source": [
    "df=pd.read_csv('iris.csv', index_col='Id')"
   ]
  },
  {
   "cell_type": "code",
   "execution_count": 7,
   "id": "84d897c3",
   "metadata": {},
   "outputs": [
    {
     "data": {
      "text/html": [
       "<div>\n",
       "<style scoped>\n",
       "    .dataframe tbody tr th:only-of-type {\n",
       "        vertical-align: middle;\n",
       "    }\n",
       "\n",
       "    .dataframe tbody tr th {\n",
       "        vertical-align: top;\n",
       "    }\n",
       "\n",
       "    .dataframe thead th {\n",
       "        text-align: right;\n",
       "    }\n",
       "</style>\n",
       "<table border=\"1\" class=\"dataframe\">\n",
       "  <thead>\n",
       "    <tr style=\"text-align: right;\">\n",
       "      <th></th>\n",
       "      <th>SepalLengthCm</th>\n",
       "      <th>SepalWidthCm</th>\n",
       "      <th>PetalLengthCm</th>\n",
       "      <th>PetalWidthCm</th>\n",
       "      <th>Species</th>\n",
       "    </tr>\n",
       "    <tr>\n",
       "      <th>Id</th>\n",
       "      <th></th>\n",
       "      <th></th>\n",
       "      <th></th>\n",
       "      <th></th>\n",
       "      <th></th>\n",
       "    </tr>\n",
       "  </thead>\n",
       "  <tbody>\n",
       "    <tr>\n",
       "      <th>1</th>\n",
       "      <td>5.1</td>\n",
       "      <td>3.5</td>\n",
       "      <td>1.4</td>\n",
       "      <td>0.2</td>\n",
       "      <td>0</td>\n",
       "    </tr>\n",
       "    <tr>\n",
       "      <th>2</th>\n",
       "      <td>4.9</td>\n",
       "      <td>3.0</td>\n",
       "      <td>1.4</td>\n",
       "      <td>0.2</td>\n",
       "      <td>0</td>\n",
       "    </tr>\n",
       "    <tr>\n",
       "      <th>3</th>\n",
       "      <td>4.7</td>\n",
       "      <td>3.2</td>\n",
       "      <td>1.3</td>\n",
       "      <td>0.2</td>\n",
       "      <td>0</td>\n",
       "    </tr>\n",
       "    <tr>\n",
       "      <th>4</th>\n",
       "      <td>4.6</td>\n",
       "      <td>3.1</td>\n",
       "      <td>1.5</td>\n",
       "      <td>0.2</td>\n",
       "      <td>0</td>\n",
       "    </tr>\n",
       "    <tr>\n",
       "      <th>5</th>\n",
       "      <td>5.0</td>\n",
       "      <td>3.6</td>\n",
       "      <td>1.4</td>\n",
       "      <td>0.2</td>\n",
       "      <td>0</td>\n",
       "    </tr>\n",
       "  </tbody>\n",
       "</table>\n",
       "</div>"
      ],
      "text/plain": [
       "    SepalLengthCm  SepalWidthCm  PetalLengthCm  PetalWidthCm  Species\n",
       "Id                                                                   \n",
       "1             5.1           3.5            1.4           0.2        0\n",
       "2             4.9           3.0            1.4           0.2        0\n",
       "3             4.7           3.2            1.3           0.2        0\n",
       "4             4.6           3.1            1.5           0.2        0\n",
       "5             5.0           3.6            1.4           0.2        0"
      ]
     },
     "execution_count": 7,
     "metadata": {},
     "output_type": "execute_result"
    }
   ],
   "source": [
    "df.head()"
   ]
  },
  {
   "cell_type": "code",
   "execution_count": 9,
   "id": "cf6f637d",
   "metadata": {},
   "outputs": [
    {
     "data": {
      "text/html": [
       "<div>\n",
       "<style scoped>\n",
       "    .dataframe tbody tr th:only-of-type {\n",
       "        vertical-align: middle;\n",
       "    }\n",
       "\n",
       "    .dataframe tbody tr th {\n",
       "        vertical-align: top;\n",
       "    }\n",
       "\n",
       "    .dataframe thead th {\n",
       "        text-align: right;\n",
       "    }\n",
       "</style>\n",
       "<table border=\"1\" class=\"dataframe\">\n",
       "  <thead>\n",
       "    <tr style=\"text-align: right;\">\n",
       "      <th></th>\n",
       "      <th>SepalLengthCm</th>\n",
       "      <th>SepalWidthCm</th>\n",
       "      <th>PetalLengthCm</th>\n",
       "      <th>PetalWidthCm</th>\n",
       "      <th>Species</th>\n",
       "    </tr>\n",
       "  </thead>\n",
       "  <tbody>\n",
       "    <tr>\n",
       "      <th>count</th>\n",
       "      <td>150.000000</td>\n",
       "      <td>150.000000</td>\n",
       "      <td>150.000000</td>\n",
       "      <td>150.000000</td>\n",
       "      <td>150.000000</td>\n",
       "    </tr>\n",
       "    <tr>\n",
       "      <th>mean</th>\n",
       "      <td>5.843333</td>\n",
       "      <td>3.054000</td>\n",
       "      <td>3.758667</td>\n",
       "      <td>1.198667</td>\n",
       "      <td>1.000000</td>\n",
       "    </tr>\n",
       "    <tr>\n",
       "      <th>std</th>\n",
       "      <td>0.828066</td>\n",
       "      <td>0.433594</td>\n",
       "      <td>1.764420</td>\n",
       "      <td>0.763161</td>\n",
       "      <td>0.819232</td>\n",
       "    </tr>\n",
       "    <tr>\n",
       "      <th>min</th>\n",
       "      <td>4.300000</td>\n",
       "      <td>2.000000</td>\n",
       "      <td>1.000000</td>\n",
       "      <td>0.100000</td>\n",
       "      <td>0.000000</td>\n",
       "    </tr>\n",
       "    <tr>\n",
       "      <th>25%</th>\n",
       "      <td>5.100000</td>\n",
       "      <td>2.800000</td>\n",
       "      <td>1.600000</td>\n",
       "      <td>0.300000</td>\n",
       "      <td>0.000000</td>\n",
       "    </tr>\n",
       "    <tr>\n",
       "      <th>50%</th>\n",
       "      <td>5.800000</td>\n",
       "      <td>3.000000</td>\n",
       "      <td>4.350000</td>\n",
       "      <td>1.300000</td>\n",
       "      <td>1.000000</td>\n",
       "    </tr>\n",
       "    <tr>\n",
       "      <th>75%</th>\n",
       "      <td>6.400000</td>\n",
       "      <td>3.300000</td>\n",
       "      <td>5.100000</td>\n",
       "      <td>1.800000</td>\n",
       "      <td>2.000000</td>\n",
       "    </tr>\n",
       "    <tr>\n",
       "      <th>max</th>\n",
       "      <td>7.900000</td>\n",
       "      <td>4.400000</td>\n",
       "      <td>6.900000</td>\n",
       "      <td>2.500000</td>\n",
       "      <td>2.000000</td>\n",
       "    </tr>\n",
       "  </tbody>\n",
       "</table>\n",
       "</div>"
      ],
      "text/plain": [
       "       SepalLengthCm  SepalWidthCm  PetalLengthCm  PetalWidthCm     Species\n",
       "count     150.000000    150.000000     150.000000    150.000000  150.000000\n",
       "mean        5.843333      3.054000       3.758667      1.198667    1.000000\n",
       "std         0.828066      0.433594       1.764420      0.763161    0.819232\n",
       "min         4.300000      2.000000       1.000000      0.100000    0.000000\n",
       "25%         5.100000      2.800000       1.600000      0.300000    0.000000\n",
       "50%         5.800000      3.000000       4.350000      1.300000    1.000000\n",
       "75%         6.400000      3.300000       5.100000      1.800000    2.000000\n",
       "max         7.900000      4.400000       6.900000      2.500000    2.000000"
      ]
     },
     "execution_count": 9,
     "metadata": {},
     "output_type": "execute_result"
    }
   ],
   "source": [
    "df.describe()"
   ]
  },
  {
   "cell_type": "code",
   "execution_count": 11,
   "id": "980a22a9",
   "metadata": {},
   "outputs": [
    {
     "data": {
      "text/plain": [
       "(150, 5)"
      ]
     },
     "execution_count": 11,
     "metadata": {},
     "output_type": "execute_result"
    }
   ],
   "source": [
    "df.shape"
   ]
  },
  {
   "cell_type": "code",
   "execution_count": 13,
   "id": "f4b5ac3a",
   "metadata": {},
   "outputs": [
    {
     "name": "stdout",
     "output_type": "stream",
     "text": [
      "<class 'pandas.core.frame.DataFrame'>\n",
      "Int64Index: 150 entries, 1 to 150\n",
      "Data columns (total 5 columns):\n",
      " #   Column         Non-Null Count  Dtype  \n",
      "---  ------         --------------  -----  \n",
      " 0   SepalLengthCm  150 non-null    float64\n",
      " 1   SepalWidthCm   150 non-null    float64\n",
      " 2   PetalLengthCm  150 non-null    float64\n",
      " 3   PetalWidthCm   150 non-null    float64\n",
      " 4   Species        150 non-null    int64  \n",
      "dtypes: float64(4), int64(1)\n",
      "memory usage: 7.0 KB\n"
     ]
    }
   ],
   "source": [
    "df.info()"
   ]
  },
  {
   "cell_type": "code",
   "execution_count": 15,
   "id": "86a85d59",
   "metadata": {},
   "outputs": [
    {
     "name": "stderr",
     "output_type": "stream",
     "text": [
      "C:\\Users\\Shayeda\\anaconda3\\lib\\site-packages\\seaborn\\_decorators.py:36: FutureWarning: Pass the following variable as a keyword arg: x. From version 0.12, the only valid positional argument will be `data`, and passing other arguments without an explicit keyword will result in an error or misinterpretation.\n",
      "  warnings.warn(\n"
     ]
    },
    {
     "data": {
      "text/plain": [
       "<AxesSubplot:xlabel='SepalWidthCm'>"
      ]
     },
     "execution_count": 15,
     "metadata": {},
     "output_type": "execute_result"
    },
    {
     "data": {
      "image/png": "[encoded data removed]",
      "text/plain": [
       "<Figure size 432x288 with 1 Axes>"
      ]
     },
     "metadata": {
      "needs_background": "light"
     },
     "output_type": "display_data"
    }
   ],
   "source": [
    "sns.boxplot(df.SepalWidthCm)"
   ]
  },
  {
   "cell_type": "code",
   "execution_count": 17,
   "id": "a90c9b3e",
   "metadata": {},
   "outputs": [
    {
     "data": {
      "text/plain": [
       "<AxesSubplot:>"
      ]
     },
     "execution_count": 17,
     "metadata": {},
     "output_type": "execute_result"
    },
    {
     "data": {
      "image/png": "[encoded data removed]",
      "text/plain": [
       "<Figure size 432x288 with 1 Axes>"
      ]
     },
     "metadata": {
      "needs_background": "light"
     },
     "output_type": "display_data"
    }
   ],
   "source": [
    "df.boxplot()"
   ]
  },
  {
   "cell_type": "markdown",
   "id": "ae67d9b3",
   "metadata": {},
   "source": [
    "# Z-Score"
   ]
  },
  {
   "cell_type": "code",
   "execution_count": 19,
   "id": "44c67bc1",
   "metadata": {},
   "outputs": [],
   "source": [
    "from scipy import stats"
   ]
  },
  {
   "cell_type": "code",
   "execution_count": 21,
   "id": "7774877b",
   "metadata": {},
   "outputs": [
    {
     "data": {
      "text/plain": [
       "0.24144329938318343"
      ]
     },
     "execution_count": 21,
     "metadata": {},
     "output_type": "execute_result"
    }
   ],
   "source": [
    "stats.kurtosis(df.SepalWidthCm)"
   ]
  },
  {
   "cell_type": "code",
   "execution_count": 22,
   "id": "61100e45",
   "metadata": {},
   "outputs": [
    {
     "data": {
      "text/plain": [
       "0.330702812773315"
      ]
     },
     "execution_count": 22,
     "metadata": {},
     "output_type": "execute_result"
    }
   ],
   "source": [
    "stats.skew(df.SepalWidthCm)"
   ]
  },
  {
   "cell_type": "code",
   "execution_count": 23,
   "id": "91c9be0a",
   "metadata": {},
   "outputs": [
    {
     "name": "stderr",
     "output_type": "stream",
     "text": [
      "C:\\Users\\Shayeda\\anaconda3\\lib\\site-packages\\seaborn\\distributions.py:2557: FutureWarning: `distplot` is a deprecated function and will be removed in a future version. Please adapt your code to use either `displot` (a figure-level function with similar flexibility) or `histplot` (an axes-level function for histograms).\n",
      "  warnings.warn(msg, FutureWarning)\n"
     ]
    },
    {
     "data": {
      "text/plain": [
       "<AxesSubplot:xlabel='SepalWidthCm', ylabel='Density'>"
      ]
     },
     "execution_count": 23,
     "metadata": {},
     "output_type": "execute_result"
    },
    {
     "data": {
      "image/png": "[encoded data removed]",
      "text/plain": [
       "<Figure size 432x288 with 1 Axes>"
      ]
     },
     "metadata": {
      "needs_background": "light"
     },
     "output_type": "display_data"
    }
   ],
   "source": [
    "sns.distplot(df.SepalWidthCm)"
   ]
  },
  {
   "cell_type": "code",
   "execution_count": 24,
   "id": "ba8ba93d",
   "metadata": {},
   "outputs": [],
   "source": [
    "z_score_sepalwidth=stats.zscore(df.SepalWidthCm)"
   ]
  },
  {
   "cell_type": "code",
   "execution_count": 25,
   "id": "4157f69b",
   "metadata": {},
   "outputs": [
    {
     "data": {
      "text/plain": [
       "array([ 1.03205722, -0.1249576 ,  0.33784833,  0.10644536,  1.26346019,\n",
       "        1.95766909,  0.80065426,  0.80065426, -0.35636057,  0.10644536,\n",
       "        1.49486315,  0.80065426, -0.1249576 , -0.1249576 ,  2.18907205,\n",
       "        3.11468391,  1.95766909,  1.03205722,  1.72626612,  1.72626612,\n",
       "        0.80065426,  1.49486315,  1.26346019,  0.56925129,  0.80065426,\n",
       "       -0.1249576 ,  0.80065426,  1.03205722,  0.80065426,  0.33784833,\n",
       "        0.10644536,  0.80065426,  2.42047502,  2.65187798,  0.10644536,\n",
       "        0.33784833,  1.03205722,  0.10644536, -0.1249576 ,  0.80065426,\n",
       "        1.03205722, -1.74477836,  0.33784833,  1.03205722,  1.72626612,\n",
       "       -0.1249576 ,  1.72626612,  0.33784833,  1.49486315,  0.56925129,\n",
       "        0.33784833,  0.33784833,  0.10644536, -1.74477836, -0.58776353,\n",
       "       -0.58776353,  0.56925129, -1.51337539, -0.35636057, -0.8191665 ,\n",
       "       -2.43898725, -0.1249576 , -1.97618132, -0.35636057, -0.35636057,\n",
       "        0.10644536, -0.1249576 , -0.8191665 , -1.97618132, -1.28197243,\n",
       "        0.33784833, -0.58776353, -1.28197243, -0.58776353, -0.35636057,\n",
       "       -0.1249576 , -0.58776353, -0.1249576 , -0.35636057, -1.05056946,\n",
       "       -1.51337539, -1.51337539, -0.8191665 , -0.8191665 , -0.1249576 ,\n",
       "        0.80065426,  0.10644536, -1.74477836, -0.1249576 , -1.28197243,\n",
       "       -1.05056946, -0.1249576 , -1.05056946, -1.74477836, -0.8191665 ,\n",
       "       -0.1249576 , -0.35636057, -0.35636057, -1.28197243, -0.58776353,\n",
       "        0.56925129, -0.8191665 , -0.1249576 , -0.35636057, -0.1249576 ,\n",
       "       -0.1249576 , -1.28197243, -0.35636057, -1.28197243,  1.26346019,\n",
       "        0.33784833, -0.8191665 , -0.1249576 , -1.28197243, -0.58776353,\n",
       "        0.33784833, -0.1249576 ,  1.72626612, -1.05056946, -1.97618132,\n",
       "        0.33784833, -0.58776353, -0.58776353, -0.8191665 ,  0.56925129,\n",
       "        0.33784833, -0.58776353, -0.1249576 , -0.58776353, -0.1249576 ,\n",
       "       -0.58776353,  1.72626612, -0.58776353, -0.58776353, -1.05056946,\n",
       "       -0.1249576 ,  0.80065426,  0.10644536, -0.1249576 ,  0.10644536,\n",
       "        0.10644536,  0.10644536, -0.8191665 ,  0.33784833,  0.56925129,\n",
       "       -0.1249576 , -1.28197243, -0.1249576 ,  0.80065426, -0.1249576 ])"
      ]
     },
     "execution_count": 25,
     "metadata": {},
     "output_type": "execute_result"
    }
   ],
   "source": [
    "z_score_sepalwidth"
   ]
  },
  {
   "cell_type": "code",
   "execution_count": 39,
   "id": "f935f434",
   "metadata": {},
   "outputs": [
    {
     "name": "stderr",
     "output_type": "stream",
     "text": [
      "C:\\Users\\Shayeda\\anaconda3\\lib\\site-packages\\seaborn\\_decorators.py:36: FutureWarning: Pass the following variable as a keyword arg: x. From version 0.12, the only valid positional argument will be `data`, and passing other arguments without an explicit keyword will result in an error or misinterpretation.\n",
      "  warnings.warn(\n"
     ]
    },
    {
     "data": {
      "text/plain": [
       "<AxesSubplot:xlabel='SepalWidthCm'>"
      ]
     },
     "execution_count": 39,
     "metadata": {},
     "output_type": "execute_result"
    },
    {
     "data": {
      "image/png": "[encoded data removed]",
      "text/plain": [
       "<Figure size 432x288 with 1 Axes>"
      ]
     },
     "metadata": {
      "needs_background": "light"
     },
     "output_type": "display_data"
    }
   ],
   "source": [
    "df_outliers_removed=df[(z_score_sepalwidth>=-3)&(z_score_sepalwidth<=3)]\n",
    "sns.boxplot(df_outliers_removed.SepalWidthCm)"
   ]
  },
  {
   "cell_type": "markdown",
   "id": "1e1158d5",
   "metadata": {},
   "source": [
    "# IQR"
   ]
  },
  {
   "cell_type": "code",
   "execution_count": 36,
   "id": "f7d4c5ee",
   "metadata": {
    "scrolled": true
   },
   "outputs": [
    {
     "name": "stderr",
     "output_type": "stream",
     "text": [
      "C:\\Users\\Shayeda\\anaconda3\\lib\\site-packages\\seaborn\\_decorators.py:36: FutureWarning: Pass the following variable as a keyword arg: x. From version 0.12, the only valid positional argument will be `data`, and passing other arguments without an explicit keyword will result in an error or misinterpretation.\n",
      "  warnings.warn(\n"
     ]
    },
    {
     "data": {
      "text/plain": [
       "<AxesSubplot:xlabel='SepalWidthCm'>"
      ]
     },
     "execution_count": 36,
     "metadata": {},
     "output_type": "execute_result"
    },
    {
     "data": {
      "image/png": "[encoded data removed]",
      "text/plain": [
       "<Figure size 432x288 with 1 Axes>"
      ]
     },
     "metadata": {
      "needs_background": "light"
     },
     "output_type": "display_data"
    }
   ],
   "source": [
    "sns.boxplot(df.SepalWidthCm)"
   ]
  },
  {
   "cell_type": "code",
   "execution_count": 40,
   "id": "4e27c0ef",
   "metadata": {},
   "outputs": [],
   "source": [
    "Q1 = np.percentile(df.SepalWidthCm,25)\n",
    "Q3 = np.percentile(df.SepalWidthCm,75)"
   ]
  },
  {
   "cell_type": "code",
   "execution_count": 44,
   "id": "0643cdb6",
   "metadata": {},
   "outputs": [
    {
     "data": {
      "text/plain": [
       "0.5"
      ]
     },
     "execution_count": 44,
     "metadata": {},
     "output_type": "execute_result"
    }
   ],
   "source": [
    "IQR=Q3-Q1\n",
    "IQR"
   ]
  },
  {
   "cell_type": "code",
   "execution_count": 45,
   "id": "909475df",
   "metadata": {},
   "outputs": [
    {
     "data": {
      "text/plain": [
       "0.5"
      ]
     },
     "execution_count": 45,
     "metadata": {},
     "output_type": "execute_result"
    }
   ],
   "source": [
    "stats.iqr(df.SepalWidthCm)"
   ]
  },
  {
   "cell_type": "code",
   "execution_count": 49,
   "id": "c698bf90",
   "metadata": {},
   "outputs": [],
   "source": [
    "Lower_bound=Q1-(1.5*IQR)"
   ]
  },
  {
   "cell_type": "code",
   "execution_count": 48,
   "id": "ca062649",
   "metadata": {},
   "outputs": [],
   "source": [
    "Upper_bound=Q3+(1.5*IQR)"
   ]
  },
  {
   "cell_type": "code",
   "execution_count": 51,
   "id": "4b1c4a7f",
   "metadata": {},
   "outputs": [],
   "source": [
    "df_IQR=df[(df.SepalWidthCm>=Lower_bound)&(df.SepalWidthCm<=Upper_bound)]\n"
   ]
  },
  {
   "cell_type": "code",
   "execution_count": 52,
   "id": "ea7f25b8",
   "metadata": {},
   "outputs": [
    {
     "data": {
      "text/plain": [
       "<AxesSubplot:>"
      ]
     },
     "execution_count": 52,
     "metadata": {},
     "output_type": "execute_result"
    },
    {
     "data": {
      "image/png": "[encoded data removed]",
      "text/plain": [
       "<Figure size 432x288 with 1 Axes>"
      ]
     },
     "metadata": {
      "needs_background": "light"
     },
     "output_type": "display_data"
    }
   ],
   "source": [
    "df_IQR.boxplot()"
   ]
  },
  {
   "cell_type": "code",
   "execution_count": 54,
   "id": "c7176773",
   "metadata": {},
   "outputs": [
    {
     "name": "stderr",
     "output_type": "stream",
     "text": [
      "C:\\Users\\Shayeda\\anaconda3\\lib\\site-packages\\seaborn\\_decorators.py:36: FutureWarning: Pass the following variable as a keyword arg: x. From version 0.12, the only valid positional argument will be `data`, and passing other arguments without an explicit keyword will result in an error or misinterpretation.\n",
      "  warnings.warn(\n"
     ]
    },
    {
     "data": {
      "text/plain": [
       "<AxesSubplot:xlabel='SepalWidthCm'>"
      ]
     },
     "execution_count": 54,
     "metadata": {},
     "output_type": "execute_result"
    },
    {
     "data": {
      "image/png": "[encoded data removed]",
      "text/plain": [
       "<Figure size 432x288 with 1 Axes>"
      ]
     },
     "metadata": {
      "needs_background": "light"
     },
     "output_type": "display_data"
    }
   ],
   "source": [
    "sns.boxplot(df_IQR.SepalWidthCm)"
   ]
  },
  {
   "cell_type": "code",
   "execution_count": 55,
   "id": "b4452f0f",
   "metadata": {},
   "outputs": [
    {
     "name": "stderr",
     "output_type": "stream",
     "text": [
      "C:\\Users\\Shayeda\\anaconda3\\lib\\site-packages\\seaborn\\_decorators.py:36: FutureWarning: Pass the following variable as a keyword arg: x. From version 0.12, the only valid positional argument will be `data`, and passing other arguments without an explicit keyword will result in an error or misinterpretation.\n",
      "  warnings.warn(\n"
     ]
    },
    {
     "data": {
      "text/plain": [
       "<AxesSubplot:xlabel='SepalWidthCm'>"
      ]
     },
     "execution_count": 55,
     "metadata": {},
     "output_type": "execute_result"
    },
    {
     "data": {
      "image/png": "[encoded data removed]",
      "text/plain": [
       "<Figure size 432x288 with 1 Axes>"
      ]
     },
     "metadata": {
      "needs_background": "light"
     },
     "output_type": "display_data"
    }
   ],
   "source": [
    "sns.boxplot(df.SepalWidthCm)"
   ]
  },
  {
   "cell_type": "markdown",
   "id": "6a61d1ce",
   "metadata": {},
   "source": [
    "# Linearity"
   ]
  },
  {
   "cell_type": "code",
   "execution_count": 56,
   "id": "7c753ab5",
   "metadata": {},
   "outputs": [
    {
     "data": {
      "text/html": [
       "<div>\n",
       "<style scoped>\n",
       "    .dataframe tbody tr th:only-of-type {\n",
       "        vertical-align: middle;\n",
       "    }\n",
       "\n",
       "    .dataframe tbody tr th {\n",
       "        vertical-align: top;\n",
       "    }\n",
       "\n",
       "    .dataframe thead th {\n",
       "        text-align: right;\n",
       "    }\n",
       "</style>\n",
       "<table border=\"1\" class=\"dataframe\">\n",
       "  <thead>\n",
       "    <tr style=\"text-align: right;\">\n",
       "      <th></th>\n",
       "      <th>SepalLengthCm</th>\n",
       "      <th>SepalWidthCm</th>\n",
       "      <th>PetalLengthCm</th>\n",
       "      <th>PetalWidthCm</th>\n",
       "      <th>Species</th>\n",
       "    </tr>\n",
       "  </thead>\n",
       "  <tbody>\n",
       "    <tr>\n",
       "      <th>SepalLengthCm</th>\n",
       "      <td>1.000000</td>\n",
       "      <td>-0.109369</td>\n",
       "      <td>0.871754</td>\n",
       "      <td>0.817954</td>\n",
       "      <td>0.782561</td>\n",
       "    </tr>\n",
       "    <tr>\n",
       "      <th>SepalWidthCm</th>\n",
       "      <td>-0.109369</td>\n",
       "      <td>1.000000</td>\n",
       "      <td>-0.420516</td>\n",
       "      <td>-0.356544</td>\n",
       "      <td>-0.419446</td>\n",
       "    </tr>\n",
       "    <tr>\n",
       "      <th>PetalLengthCm</th>\n",
       "      <td>0.871754</td>\n",
       "      <td>-0.420516</td>\n",
       "      <td>1.000000</td>\n",
       "      <td>0.962757</td>\n",
       "      <td>0.949043</td>\n",
       "    </tr>\n",
       "    <tr>\n",
       "      <th>PetalWidthCm</th>\n",
       "      <td>0.817954</td>\n",
       "      <td>-0.356544</td>\n",
       "      <td>0.962757</td>\n",
       "      <td>1.000000</td>\n",
       "      <td>0.956464</td>\n",
       "    </tr>\n",
       "    <tr>\n",
       "      <th>Species</th>\n",
       "      <td>0.782561</td>\n",
       "      <td>-0.419446</td>\n",
       "      <td>0.949043</td>\n",
       "      <td>0.956464</td>\n",
       "      <td>1.000000</td>\n",
       "    </tr>\n",
       "  </tbody>\n",
       "</table>\n",
       "</div>"
      ],
      "text/plain": [
       "               SepalLengthCm  SepalWidthCm  PetalLengthCm  PetalWidthCm  \\\n",
       "SepalLengthCm       1.000000     -0.109369       0.871754      0.817954   \n",
       "SepalWidthCm       -0.109369      1.000000      -0.420516     -0.356544   \n",
       "PetalLengthCm       0.871754     -0.420516       1.000000      0.962757   \n",
       "PetalWidthCm        0.817954     -0.356544       0.962757      1.000000   \n",
       "Species             0.782561     -0.419446       0.949043      0.956464   \n",
       "\n",
       "                Species  \n",
       "SepalLengthCm  0.782561  \n",
       "SepalWidthCm  -0.419446  \n",
       "PetalLengthCm  0.949043  \n",
       "PetalWidthCm   0.956464  \n",
       "Species        1.000000  "
      ]
     },
     "execution_count": 56,
     "metadata": {},
     "output_type": "execute_result"
    }
   ],
   "source": [
    "df.corr()"
   ]
  },
  {
   "cell_type": "code",
   "execution_count": null,
   "id": "64ebb38a",
   "metadata": {},
   "outputs": [],
   "source": []
  }
 ],
 "metadata": {
  "kernelspec": {
   "display_name": "Python 3",
   "language": "python",
   "name": "python3"
  },
  "language_info": {
   "codemirror_mode": {
    "name": "ipython",
    "version": 3
   },
   "file_extension": ".py",
   "mimetype": "text/x-python",
   "name": "python",
   "nbconvert_exporter": "python",
   "pygments_lexer": "ipython3",
   "version": "3.8.8"
  }
 },
 "nbformat": 4,
 "nbformat_minor": 5
}
